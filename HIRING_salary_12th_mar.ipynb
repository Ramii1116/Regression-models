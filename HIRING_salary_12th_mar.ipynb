{
 "cells": [
  {
   "cell_type": "code",
   "execution_count": 1,
   "id": "a0e75efb-a2b0-406d-aec5-1ad8fbf61382",
   "metadata": {},
   "outputs": [],
   "source": [
    "import numpy as np\n",
    "import pandas as pd\n",
    "import warnings \n",
    "warnings.simplefilter(\"ignore\")\n",
    "import seaborn as sns\n",
    "from scipy import stats\n",
    "import matplotlib.pyplot as plt"
   ]
  },
  {
   "cell_type": "code",
   "execution_count": 2,
   "id": "c68ef6f6-1976-4231-909c-b432eaa0c67b",
   "metadata": {},
   "outputs": [],
   "source": [
    "df=pd.read_csv(\"hiring.csv\")"
   ]
  },
  {
   "cell_type": "code",
   "execution_count": 3,
   "id": "bc0f7ff4-66f8-47bd-8085-6b57c02c56b6",
   "metadata": {},
   "outputs": [
    {
     "data": {
      "text/html": [
       "<div>\n",
       "<style scoped>\n",
       "    .dataframe tbody tr th:only-of-type {\n",
       "        vertical-align: middle;\n",
       "    }\n",
       "\n",
       "    .dataframe tbody tr th {\n",
       "        vertical-align: top;\n",
       "    }\n",
       "\n",
       "    .dataframe thead th {\n",
       "        text-align: right;\n",
       "    }\n",
       "</style>\n",
       "<table border=\"1\" class=\"dataframe\">\n",
       "  <thead>\n",
       "    <tr style=\"text-align: right;\">\n",
       "      <th></th>\n",
       "      <th>experience</th>\n",
       "      <th>test_score(out of 10)</th>\n",
       "      <th>interview_score(out of 10)</th>\n",
       "      <th>salary($)</th>\n",
       "    </tr>\n",
       "  </thead>\n",
       "  <tbody>\n",
       "    <tr>\n",
       "      <th>0</th>\n",
       "      <td>NaN</td>\n",
       "      <td>8.0</td>\n",
       "      <td>9</td>\n",
       "      <td>50000</td>\n",
       "    </tr>\n",
       "    <tr>\n",
       "      <th>1</th>\n",
       "      <td>NaN</td>\n",
       "      <td>8.0</td>\n",
       "      <td>6</td>\n",
       "      <td>45000</td>\n",
       "    </tr>\n",
       "    <tr>\n",
       "      <th>2</th>\n",
       "      <td>five</td>\n",
       "      <td>6.0</td>\n",
       "      <td>7</td>\n",
       "      <td>60000</td>\n",
       "    </tr>\n",
       "    <tr>\n",
       "      <th>3</th>\n",
       "      <td>two</td>\n",
       "      <td>10.0</td>\n",
       "      <td>10</td>\n",
       "      <td>65000</td>\n",
       "    </tr>\n",
       "    <tr>\n",
       "      <th>4</th>\n",
       "      <td>seven</td>\n",
       "      <td>9.0</td>\n",
       "      <td>6</td>\n",
       "      <td>70000</td>\n",
       "    </tr>\n",
       "    <tr>\n",
       "      <th>...</th>\n",
       "      <td>...</td>\n",
       "      <td>...</td>\n",
       "      <td>...</td>\n",
       "      <td>...</td>\n",
       "    </tr>\n",
       "    <tr>\n",
       "      <th>140</th>\n",
       "      <td>2</td>\n",
       "      <td>9.0</td>\n",
       "      <td>9</td>\n",
       "      <td>59000</td>\n",
       "    </tr>\n",
       "    <tr>\n",
       "      <th>141</th>\n",
       "      <td>5</td>\n",
       "      <td>8.0</td>\n",
       "      <td>8</td>\n",
       "      <td>56000</td>\n",
       "    </tr>\n",
       "    <tr>\n",
       "      <th>142</th>\n",
       "      <td>7</td>\n",
       "      <td>7.0</td>\n",
       "      <td>8</td>\n",
       "      <td>55000</td>\n",
       "    </tr>\n",
       "    <tr>\n",
       "      <th>143</th>\n",
       "      <td>4</td>\n",
       "      <td>6.0</td>\n",
       "      <td>7</td>\n",
       "      <td>52000</td>\n",
       "    </tr>\n",
       "    <tr>\n",
       "      <th>144</th>\n",
       "      <td>2</td>\n",
       "      <td>9.0</td>\n",
       "      <td>9</td>\n",
       "      <td>59000</td>\n",
       "    </tr>\n",
       "  </tbody>\n",
       "</table>\n",
       "<p>145 rows × 4 columns</p>\n",
       "</div>"
      ],
      "text/plain": [
       "    experience  test_score(out of 10)  interview_score(out of 10)  salary($)\n",
       "0          NaN                    8.0                           9      50000\n",
       "1          NaN                    8.0                           6      45000\n",
       "2         five                    6.0                           7      60000\n",
       "3          two                   10.0                          10      65000\n",
       "4        seven                    9.0                           6      70000\n",
       "..         ...                    ...                         ...        ...\n",
       "140          2                    9.0                           9      59000\n",
       "141          5                    8.0                           8      56000\n",
       "142          7                    7.0                           8      55000\n",
       "143          4                    6.0                           7      52000\n",
       "144          2                    9.0                           9      59000\n",
       "\n",
       "[145 rows x 4 columns]"
      ]
     },
     "execution_count": 3,
     "metadata": {},
     "output_type": "execute_result"
    }
   ],
   "source": [
    "df"
   ]
  },
  {
   "cell_type": "code",
   "execution_count": 4,
   "id": "573014ab-a740-4176-87c5-ea4be81410f0",
   "metadata": {},
   "outputs": [
    {
     "data": {
      "text/plain": [
       "(145, 4)"
      ]
     },
     "execution_count": 4,
     "metadata": {},
     "output_type": "execute_result"
    }
   ],
   "source": [
    "df.shape"
   ]
  },
  {
   "cell_type": "code",
   "execution_count": 5,
   "id": "bf616780-1129-4914-b97b-77143a6ba33d",
   "metadata": {},
   "outputs": [
    {
     "data": {
      "text/plain": [
       "<bound method DataFrame.isnull of     experience  test_score(out of 10)  interview_score(out of 10)  salary($)\n",
       "0          NaN                    8.0                           9      50000\n",
       "1          NaN                    8.0                           6      45000\n",
       "2         five                    6.0                           7      60000\n",
       "3          two                   10.0                          10      65000\n",
       "4        seven                    9.0                           6      70000\n",
       "..         ...                    ...                         ...        ...\n",
       "140          2                    9.0                           9      59000\n",
       "141          5                    8.0                           8      56000\n",
       "142          7                    7.0                           8      55000\n",
       "143          4                    6.0                           7      52000\n",
       "144          2                    9.0                           9      59000\n",
       "\n",
       "[145 rows x 4 columns]>"
      ]
     },
     "execution_count": 5,
     "metadata": {},
     "output_type": "execute_result"
    }
   ],
   "source": [
    "df.isnull"
   ]
  },
  {
   "cell_type": "code",
   "execution_count": 6,
   "id": "915fd069-e0bd-4852-92c7-84a4de9e7a2e",
   "metadata": {},
   "outputs": [
    {
     "name": "stdout",
     "output_type": "stream",
     "text": [
      "<class 'pandas.core.frame.DataFrame'>\n",
      "RangeIndex: 145 entries, 0 to 144\n",
      "Data columns (total 4 columns):\n",
      " #   Column                      Non-Null Count  Dtype  \n",
      "---  ------                      --------------  -----  \n",
      " 0   experience                  143 non-null    object \n",
      " 1   test_score(out of 10)       144 non-null    float64\n",
      " 2   interview_score(out of 10)  145 non-null    int64  \n",
      " 3   salary($)                   145 non-null    int64  \n",
      "dtypes: float64(1), int64(2), object(1)\n",
      "memory usage: 4.7+ KB\n"
     ]
    }
   ],
   "source": [
    "df.info()"
   ]
  },
  {
   "cell_type": "code",
   "execution_count": 7,
   "id": "07a831dd-618d-4f78-ab18-c11e7c6f75fd",
   "metadata": {},
   "outputs": [
    {
     "data": {
      "text/plain": [
       "array([nan, 'five', 'two', 'seven', 'three', 'ten', 'eleven', '2', '5',\n",
       "       '3', '7', '4', '6', '1'], dtype=object)"
      ]
     },
     "execution_count": 7,
     "metadata": {},
     "output_type": "execute_result"
    }
   ],
   "source": [
    "df[\"experience\"].unique()"
   ]
  },
  {
   "cell_type": "code",
   "execution_count": 8,
   "id": "1c427f87-2878-4dce-962f-28e220ef940d",
   "metadata": {},
   "outputs": [],
   "source": [
    "df[\"experience\"].replace({\"five\":5,\"two\":2,\"seven\":7,\"three\":3,\"ten\":10,\"eleven\":11},inplace=True)"
   ]
  },
  {
   "cell_type": "code",
   "execution_count": 9,
   "id": "4c72d81a-9081-48d0-9813-ef7095c0b5a5",
   "metadata": {},
   "outputs": [
    {
     "data": {
      "text/plain": [
       "array([nan, 5, 2, 7, 3, 10, 11, '2', '5', '3', '7', '4', '6', '1'],\n",
       "      dtype=object)"
      ]
     },
     "execution_count": 9,
     "metadata": {},
     "output_type": "execute_result"
    }
   ],
   "source": [
    "df[\"experience\"].unique()"
   ]
  },
  {
   "cell_type": "code",
   "execution_count": 10,
   "id": "9d20f429-70c8-4489-8bef-f0309ec9dae9",
   "metadata": {},
   "outputs": [
    {
     "data": {
      "text/plain": [
       "array([0, 5, 2, 7, 3, 10, 11, '2', '5', '3', '7', '4', '6', '1'],\n",
       "      dtype=object)"
      ]
     },
     "execution_count": 10,
     "metadata": {},
     "output_type": "execute_result"
    }
   ],
   "source": [
    "df[\"experience\"].fillna(0,inplace=True)\n",
    "df[\"experience\"].unique()"
   ]
  },
  {
   "cell_type": "code",
   "execution_count": 11,
   "id": "0dc5ece8-fdd0-44cf-a9fa-f8a351f2fcea",
   "metadata": {},
   "outputs": [],
   "source": [
    "df[\"experience\"]=df[\"experience\"].astype(int)"
   ]
  },
  {
   "cell_type": "code",
   "execution_count": 12,
   "id": "a25d0234-7135-42a2-b5ba-b0ac0b84207f",
   "metadata": {},
   "outputs": [
    {
     "data": {
      "text/plain": [
       "experience                    0\n",
       "test_score(out of 10)         1\n",
       "interview_score(out of 10)    0\n",
       "salary($)                     0\n",
       "dtype: int64"
      ]
     },
     "execution_count": 12,
     "metadata": {},
     "output_type": "execute_result"
    }
   ],
   "source": [
    "df.isnull().sum()"
   ]
  },
  {
   "cell_type": "code",
   "execution_count": 13,
   "id": "da5da98b-725b-42db-a755-bc0639aa17ad",
   "metadata": {},
   "outputs": [
    {
     "data": {
      "text/html": [
       "<div>\n",
       "<style scoped>\n",
       "    .dataframe tbody tr th:only-of-type {\n",
       "        vertical-align: middle;\n",
       "    }\n",
       "\n",
       "    .dataframe tbody tr th {\n",
       "        vertical-align: top;\n",
       "    }\n",
       "\n",
       "    .dataframe thead th {\n",
       "        text-align: right;\n",
       "    }\n",
       "</style>\n",
       "<table border=\"1\" class=\"dataframe\">\n",
       "  <thead>\n",
       "    <tr style=\"text-align: right;\">\n",
       "      <th></th>\n",
       "      <th>experience</th>\n",
       "      <th>test_score(out of 10)</th>\n",
       "      <th>interview_score(out of 10)</th>\n",
       "      <th>salary($)</th>\n",
       "    </tr>\n",
       "  </thead>\n",
       "  <tbody>\n",
       "    <tr>\n",
       "      <th>6</th>\n",
       "      <td>10</td>\n",
       "      <td>NaN</td>\n",
       "      <td>7</td>\n",
       "      <td>72000</td>\n",
       "    </tr>\n",
       "  </tbody>\n",
       "</table>\n",
       "</div>"
      ],
      "text/plain": [
       "   experience  test_score(out of 10)  interview_score(out of 10)  salary($)\n",
       "6          10                    NaN                           7      72000"
      ]
     },
     "execution_count": 13,
     "metadata": {},
     "output_type": "execute_result"
    }
   ],
   "source": [
    "n=df[df[\"test_score(out of 10)\"].isnull()]\n",
    "n"
   ]
  },
  {
   "cell_type": "code",
   "execution_count": 14,
   "id": "b12d10a1-9f1c-437d-b83e-ec4620787cfa",
   "metadata": {},
   "outputs": [
    {
     "data": {
      "text/plain": [
       "7.493055555555555"
      ]
     },
     "execution_count": 14,
     "metadata": {},
     "output_type": "execute_result"
    }
   ],
   "source": [
    "mean_value=df[\"test_score(out of 10)\"].mean()\n",
    "mean_value"
   ]
  },
  {
   "cell_type": "code",
   "execution_count": 15,
   "id": "4deab342-ee22-4cbf-8309-1a46d092e92b",
   "metadata": {},
   "outputs": [],
   "source": [
    "df[\"test_score(out of 10)\"].fillna(mean_value,inplace=True)"
   ]
  },
  {
   "cell_type": "code",
   "execution_count": 16,
   "id": "ad4683f6-a8d3-4ac1-a1e2-75bc5561249d",
   "metadata": {},
   "outputs": [
    {
     "name": "stdout",
     "output_type": "stream",
     "text": [
      "     experience  test_score(out of 10)  interview_score(out of 10)  salary($)\n",
      "0             0                    8.0                           9      50000\n",
      "1             0                    8.0                           6      45000\n",
      "2             5                    6.0                           7      60000\n",
      "3             2                   10.0                          10      65000\n",
      "4             7                    9.0                           6      70000\n",
      "..          ...                    ...                         ...        ...\n",
      "140           2                    9.0                           9      59000\n",
      "141           5                    8.0                           8      56000\n",
      "142           7                    7.0                           8      55000\n",
      "143           4                    6.0                           7      52000\n",
      "144           2                    9.0                           9      59000\n",
      "\n",
      "[145 rows x 4 columns]\n"
     ]
    }
   ],
   "source": [
    "pd.set_option('display.max_columns', None)\n",
    "print(df)"
   ]
  },
  {
   "cell_type": "code",
   "execution_count": 17,
   "id": "c421ed86-1bf9-4599-a91e-42466b8b198d",
   "metadata": {},
   "outputs": [
    {
     "name": "stdout",
     "output_type": "stream",
     "text": [
      "<class 'pandas.core.frame.DataFrame'>\n",
      "RangeIndex: 145 entries, 0 to 144\n",
      "Data columns (total 4 columns):\n",
      " #   Column                      Non-Null Count  Dtype  \n",
      "---  ------                      --------------  -----  \n",
      " 0   experience                  145 non-null    int32  \n",
      " 1   test_score(out of 10)       145 non-null    float64\n",
      " 2   interview_score(out of 10)  145 non-null    int64  \n",
      " 3   salary($)                   145 non-null    int64  \n",
      "dtypes: float64(1), int32(1), int64(2)\n",
      "memory usage: 4.1 KB\n"
     ]
    }
   ],
   "source": [
    "df.info()"
   ]
  },
  {
   "cell_type": "code",
   "execution_count": 18,
   "id": "9364e92b-2625-48cb-8785-214247a1a62a",
   "metadata": {},
   "outputs": [
    {
     "data": {
      "text/plain": [
       "(145, 4)"
      ]
     },
     "execution_count": 18,
     "metadata": {},
     "output_type": "execute_result"
    }
   ],
   "source": [
    "df.shape"
   ]
  },
  {
   "cell_type": "code",
   "execution_count": 19,
   "id": "5a437623-591f-4a1b-9f42-e63644bed75d",
   "metadata": {},
   "outputs": [
    {
     "data": {
      "text/plain": [
       "0.3685295550900829"
      ]
     },
     "execution_count": 19,
     "metadata": {},
     "output_type": "execute_result"
    }
   ],
   "source": [
    "df[\"experience\"].skew()"
   ]
  },
  {
   "cell_type": "code",
   "execution_count": 20,
   "id": "a820492f-9ed6-4068-b0d2-2c3a691cb679",
   "metadata": {},
   "outputs": [
    {
     "data": {
      "text/plain": [
       "0.0032906762708780363"
      ]
     },
     "execution_count": 20,
     "metadata": {},
     "output_type": "execute_result"
    }
   ],
   "source": [
    "df[\"test_score(out of 10)\"].skew()"
   ]
  },
  {
   "cell_type": "code",
   "execution_count": 21,
   "id": "8d01ef06-6367-46d3-80b4-041aa97f1731",
   "metadata": {},
   "outputs": [
    {
     "data": {
      "text/plain": [
       "-0.09154245110443236"
      ]
     },
     "execution_count": 21,
     "metadata": {},
     "output_type": "execute_result"
    }
   ],
   "source": [
    "df[\"interview_score(out of 10)\"].skew()"
   ]
  },
  {
   "cell_type": "code",
   "execution_count": 22,
   "id": "9b8a68a8-bd7b-4c70-b8ba-1fb6bc1d347c",
   "metadata": {},
   "outputs": [
    {
     "data": {
      "text/html": [
       "<div>\n",
       "<style scoped>\n",
       "    .dataframe tbody tr th:only-of-type {\n",
       "        vertical-align: middle;\n",
       "    }\n",
       "\n",
       "    .dataframe tbody tr th {\n",
       "        vertical-align: top;\n",
       "    }\n",
       "\n",
       "    .dataframe thead th {\n",
       "        text-align: right;\n",
       "    }\n",
       "</style>\n",
       "<table border=\"1\" class=\"dataframe\">\n",
       "  <thead>\n",
       "    <tr style=\"text-align: right;\">\n",
       "      <th></th>\n",
       "      <th>experience</th>\n",
       "      <th>test_score(out of 10)</th>\n",
       "      <th>interview_score(out of 10)</th>\n",
       "      <th>salary($)</th>\n",
       "    </tr>\n",
       "  </thead>\n",
       "  <tbody>\n",
       "    <tr>\n",
       "      <th>0</th>\n",
       "      <td>0</td>\n",
       "      <td>8.0</td>\n",
       "      <td>9</td>\n",
       "      <td>50000</td>\n",
       "    </tr>\n",
       "    <tr>\n",
       "      <th>1</th>\n",
       "      <td>0</td>\n",
       "      <td>8.0</td>\n",
       "      <td>6</td>\n",
       "      <td>45000</td>\n",
       "    </tr>\n",
       "    <tr>\n",
       "      <th>2</th>\n",
       "      <td>5</td>\n",
       "      <td>6.0</td>\n",
       "      <td>7</td>\n",
       "      <td>60000</td>\n",
       "    </tr>\n",
       "    <tr>\n",
       "      <th>3</th>\n",
       "      <td>2</td>\n",
       "      <td>10.0</td>\n",
       "      <td>10</td>\n",
       "      <td>65000</td>\n",
       "    </tr>\n",
       "    <tr>\n",
       "      <th>4</th>\n",
       "      <td>7</td>\n",
       "      <td>9.0</td>\n",
       "      <td>6</td>\n",
       "      <td>70000</td>\n",
       "    </tr>\n",
       "    <tr>\n",
       "      <th>...</th>\n",
       "      <td>...</td>\n",
       "      <td>...</td>\n",
       "      <td>...</td>\n",
       "      <td>...</td>\n",
       "    </tr>\n",
       "    <tr>\n",
       "      <th>140</th>\n",
       "      <td>2</td>\n",
       "      <td>9.0</td>\n",
       "      <td>9</td>\n",
       "      <td>59000</td>\n",
       "    </tr>\n",
       "    <tr>\n",
       "      <th>141</th>\n",
       "      <td>5</td>\n",
       "      <td>8.0</td>\n",
       "      <td>8</td>\n",
       "      <td>56000</td>\n",
       "    </tr>\n",
       "    <tr>\n",
       "      <th>142</th>\n",
       "      <td>7</td>\n",
       "      <td>7.0</td>\n",
       "      <td>8</td>\n",
       "      <td>55000</td>\n",
       "    </tr>\n",
       "    <tr>\n",
       "      <th>143</th>\n",
       "      <td>4</td>\n",
       "      <td>6.0</td>\n",
       "      <td>7</td>\n",
       "      <td>52000</td>\n",
       "    </tr>\n",
       "    <tr>\n",
       "      <th>144</th>\n",
       "      <td>2</td>\n",
       "      <td>9.0</td>\n",
       "      <td>9</td>\n",
       "      <td>59000</td>\n",
       "    </tr>\n",
       "  </tbody>\n",
       "</table>\n",
       "<p>145 rows × 4 columns</p>\n",
       "</div>"
      ],
      "text/plain": [
       "     experience  test_score(out of 10)  interview_score(out of 10)  salary($)\n",
       "0             0                    8.0                           9      50000\n",
       "1             0                    8.0                           6      45000\n",
       "2             5                    6.0                           7      60000\n",
       "3             2                   10.0                          10      65000\n",
       "4             7                    9.0                           6      70000\n",
       "..          ...                    ...                         ...        ...\n",
       "140           2                    9.0                           9      59000\n",
       "141           5                    8.0                           8      56000\n",
       "142           7                    7.0                           8      55000\n",
       "143           4                    6.0                           7      52000\n",
       "144           2                    9.0                           9      59000\n",
       "\n",
       "[145 rows x 4 columns]"
      ]
     },
     "execution_count": 22,
     "metadata": {},
     "output_type": "execute_result"
    }
   ],
   "source": [
    "df"
   ]
  },
  {
   "cell_type": "code",
   "execution_count": 23,
   "id": "3de4f973-4006-4bd8-a196-25dc9b396c9f",
   "metadata": {},
   "outputs": [
    {
     "data": {
      "text/plain": [
       "1.598697582287083"
      ]
     },
     "execution_count": 23,
     "metadata": {},
     "output_type": "execute_result"
    }
   ],
   "source": [
    "df[\"salary($)\"].skew()"
   ]
  },
  {
   "cell_type": "code",
   "execution_count": 24,
   "id": "a670900f-91b7-479f-938e-e4992044c7b1",
   "metadata": {},
   "outputs": [
    {
     "data": {
      "text/plain": [
       "<bound method DataFrame.drop_duplicates of      experience  test_score(out of 10)  interview_score(out of 10)  salary($)\n",
       "0             0                    8.0                           9      50000\n",
       "1             0                    8.0                           6      45000\n",
       "2             5                    6.0                           7      60000\n",
       "3             2                   10.0                          10      65000\n",
       "4             7                    9.0                           6      70000\n",
       "..          ...                    ...                         ...        ...\n",
       "140           2                    9.0                           9      59000\n",
       "141           5                    8.0                           8      56000\n",
       "142           7                    7.0                           8      55000\n",
       "143           4                    6.0                           7      52000\n",
       "144           2                    9.0                           9      59000\n",
       "\n",
       "[145 rows x 4 columns]>"
      ]
     },
     "execution_count": 24,
     "metadata": {},
     "output_type": "execute_result"
    }
   ],
   "source": [
    "df.drop_duplicates"
   ]
  },
  {
   "cell_type": "code",
   "execution_count": 25,
   "id": "1825a943-33b2-4fdb-8f31-a2bb62335c99",
   "metadata": {},
   "outputs": [
    {
     "data": {
      "text/plain": [
       "<Axes: >"
      ]
     },
     "execution_count": 25,
     "metadata": {},
     "output_type": "execute_result"
    },
    {
     "data": {
      "image/png": "[encoded data removed]",
      "text/plain": [
       "<Figure size 640x480 with 1 Axes>"
      ]
     },
     "metadata": {},
     "output_type": "display_data"
    }
   ],
   "source": [
    "sns.boxplot(df[\"salary($)\"])"
   ]
  },
  {
   "cell_type": "code",
   "execution_count": 26,
   "id": "370a44ea-5c26-4d2d-ae2a-d3acdf90bbdc",
   "metadata": {},
   "outputs": [
    {
     "data": {
      "text/plain": [
       "<Axes: >"
      ]
     },
     "execution_count": 26,
     "metadata": {},
     "output_type": "execute_result"
    },
    {
     "data": {
      "image/png": "[encoded data removed]",
      "text/plain": [
       "<Figure size 640x480 with 1 Axes>"
      ]
     },
     "metadata": {},
     "output_type": "display_data"
    }
   ],
   "source": [
    "sns.boxplot(df[\"experience\"])"
   ]
  },
  {
   "cell_type": "code",
   "execution_count": 27,
   "id": "b3bd149a-a84b-4265-90b4-0046bd2b9fdb",
   "metadata": {},
   "outputs": [
    {
     "data": {
      "text/plain": [
       "<Axes: >"
      ]
     },
     "execution_count": 27,
     "metadata": {},
     "output_type": "execute_result"
    },
    {
     "data": {
      "image/png": "[encoded data removed]",
      "text/plain": [
       "<Figure size 640x480 with 1 Axes>"
      ]
     },
     "metadata": {},
     "output_type": "display_data"
    }
   ],
   "source": [
    "sns.boxplot(df[\"interview_score(out of 10)\"])"
   ]
  },
  {
   "cell_type": "code",
   "execution_count": 28,
   "id": "386aa04a-31fb-4ec1-a2d2-ccad8d2273b2",
   "metadata": {},
   "outputs": [
    {
     "data": {
      "text/plain": [
       "<Axes: >"
      ]
     },
     "execution_count": 28,
     "metadata": {},
     "output_type": "execute_result"
    },
    {
     "data": {
      "image/png": "[encoded data removed]",
      "text/plain": [
       "<Figure size 640x480 with 1 Axes>"
      ]
     },
     "metadata": {},
     "output_type": "display_data"
    }
   ],
   "source": [
    "sns.boxplot(df[\"test_score(out of 10)\"])"
   ]
  },
  {
   "cell_type": "code",
   "execution_count": 29,
   "id": "a84a68b4-a3de-4d1d-b615-145966167458",
   "metadata": {},
   "outputs": [
    {
     "name": "stdout",
     "output_type": "stream",
     "text": [
      "Number of outliers: 3\n"
     ]
    }
   ],
   "source": [
    "q1 = df['salary($)'].quantile(0.25)\n",
    "q3 = df['salary($)'].quantile(0.75)\n",
    "iqr = q3 - q1  # Interquartile range\n",
    "lower_bound = q1 - 1.5 * iqr\n",
    "upper_bound = q3 + 1.5 * iqr\n",
    "\n",
    "outliers = df[(df['salary($)'] < lower_bound) | (df['salary($)'] > upper_bound)]\n",
    "print(f\"Number of outliers: {len(outliers)}\")"
   ]
  },
  {
   "cell_type": "code",
   "execution_count": 30,
   "id": "9d4a570a-47b4-4ce2-bb35-515aca6d551c",
   "metadata": {},
   "outputs": [
    {
     "data": {
      "image/png": "[encoded data removed]",
      "text/plain": [
       "<Figure size 640x480 with 1 Axes>"
      ]
     },
     "metadata": {},
     "output_type": "display_data"
    },
    {
     "name": "stdout",
     "output_type": "stream",
     "text": [
      "   experience  test_score(out of 10)  interview_score(out of 10)  salary($)\n",
      "4           7               9.000000                           6      70000\n",
      "6          10               7.493056                           7      72000\n",
      "7          11               7.000000                           8      80000\n"
     ]
    }
   ],
   "source": [
    "# Visualize the boxplot again to see the outliers\n",
    "sns.boxplot(df['salary($)'])\n",
    "plt.title('Boxplot of Salary')\n",
    "plt.show()\n",
    "\n",
    "# Display the outliers (those above or below the whiskers)\n",
    "outliers_visible = df[df['salary($)'] > upper_bound]  # Adjust this depending on which side outliers exist\n",
    "print(outliers_visible)"
   ]
  },
  {
   "cell_type": "code",
   "execution_count": 31,
   "id": "3b389f85-6b75-42dc-9def-846a3b80fe97",
   "metadata": {},
   "outputs": [],
   "source": [
    "df.drop(index=[6,7],inplace=True)"
   ]
  },
  {
   "cell_type": "code",
   "execution_count": 32,
   "id": "c3af8779-f16d-47ab-9a5d-2930c50ccfff",
   "metadata": {},
   "outputs": [
    {
     "data": {
      "text/html": [
       "<div>\n",
       "<style scoped>\n",
       "    .dataframe tbody tr th:only-of-type {\n",
       "        vertical-align: middle;\n",
       "    }\n",
       "\n",
       "    .dataframe tbody tr th {\n",
       "        vertical-align: top;\n",
       "    }\n",
       "\n",
       "    .dataframe thead th {\n",
       "        text-align: right;\n",
       "    }\n",
       "</style>\n",
       "<table border=\"1\" class=\"dataframe\">\n",
       "  <thead>\n",
       "    <tr style=\"text-align: right;\">\n",
       "      <th></th>\n",
       "      <th>experience</th>\n",
       "      <th>test_score(out of 10)</th>\n",
       "      <th>interview_score(out of 10)</th>\n",
       "      <th>salary($)</th>\n",
       "    </tr>\n",
       "  </thead>\n",
       "  <tbody>\n",
       "    <tr>\n",
       "      <th>0</th>\n",
       "      <td>0</td>\n",
       "      <td>8.0</td>\n",
       "      <td>9</td>\n",
       "      <td>50000</td>\n",
       "    </tr>\n",
       "    <tr>\n",
       "      <th>1</th>\n",
       "      <td>0</td>\n",
       "      <td>8.0</td>\n",
       "      <td>6</td>\n",
       "      <td>45000</td>\n",
       "    </tr>\n",
       "    <tr>\n",
       "      <th>2</th>\n",
       "      <td>5</td>\n",
       "      <td>6.0</td>\n",
       "      <td>7</td>\n",
       "      <td>60000</td>\n",
       "    </tr>\n",
       "    <tr>\n",
       "      <th>3</th>\n",
       "      <td>2</td>\n",
       "      <td>10.0</td>\n",
       "      <td>10</td>\n",
       "      <td>65000</td>\n",
       "    </tr>\n",
       "    <tr>\n",
       "      <th>4</th>\n",
       "      <td>7</td>\n",
       "      <td>9.0</td>\n",
       "      <td>6</td>\n",
       "      <td>70000</td>\n",
       "    </tr>\n",
       "    <tr>\n",
       "      <th>5</th>\n",
       "      <td>3</td>\n",
       "      <td>7.0</td>\n",
       "      <td>10</td>\n",
       "      <td>62000</td>\n",
       "    </tr>\n",
       "    <tr>\n",
       "      <th>8</th>\n",
       "      <td>2</td>\n",
       "      <td>8.0</td>\n",
       "      <td>9</td>\n",
       "      <td>50000</td>\n",
       "    </tr>\n",
       "    <tr>\n",
       "      <th>9</th>\n",
       "      <td>5</td>\n",
       "      <td>7.0</td>\n",
       "      <td>8</td>\n",
       "      <td>55000</td>\n",
       "    </tr>\n",
       "    <tr>\n",
       "      <th>10</th>\n",
       "      <td>3</td>\n",
       "      <td>6.0</td>\n",
       "      <td>7</td>\n",
       "      <td>45000</td>\n",
       "    </tr>\n",
       "    <tr>\n",
       "      <th>11</th>\n",
       "      <td>7</td>\n",
       "      <td>9.0</td>\n",
       "      <td>9</td>\n",
       "      <td>65000</td>\n",
       "    </tr>\n",
       "  </tbody>\n",
       "</table>\n",
       "</div>"
      ],
      "text/plain": [
       "    experience  test_score(out of 10)  interview_score(out of 10)  salary($)\n",
       "0            0                    8.0                           9      50000\n",
       "1            0                    8.0                           6      45000\n",
       "2            5                    6.0                           7      60000\n",
       "3            2                   10.0                          10      65000\n",
       "4            7                    9.0                           6      70000\n",
       "5            3                    7.0                          10      62000\n",
       "8            2                    8.0                           9      50000\n",
       "9            5                    7.0                           8      55000\n",
       "10           3                    6.0                           7      45000\n",
       "11           7                    9.0                           9      65000"
      ]
     },
     "execution_count": 32,
     "metadata": {},
     "output_type": "execute_result"
    }
   ],
   "source": [
    "df.head(10)"
   ]
  },
  {
   "cell_type": "code",
   "execution_count": 33,
   "id": "9809e1c3-19f2-4159-95eb-390464f6020e",
   "metadata": {},
   "outputs": [
    {
     "data": {
      "text/html": [
       "<div>\n",
       "<style scoped>\n",
       "    .dataframe tbody tr th:only-of-type {\n",
       "        vertical-align: middle;\n",
       "    }\n",
       "\n",
       "    .dataframe tbody tr th {\n",
       "        vertical-align: top;\n",
       "    }\n",
       "\n",
       "    .dataframe thead th {\n",
       "        text-align: right;\n",
       "    }\n",
       "</style>\n",
       "<table border=\"1\" class=\"dataframe\">\n",
       "  <thead>\n",
       "    <tr style=\"text-align: right;\">\n",
       "      <th></th>\n",
       "      <th>experience</th>\n",
       "      <th>test_score(out of 10)</th>\n",
       "      <th>interview_score(out of 10)</th>\n",
       "      <th>salary($)</th>\n",
       "    </tr>\n",
       "  </thead>\n",
       "  <tbody>\n",
       "    <tr>\n",
       "      <th>0</th>\n",
       "      <td>0</td>\n",
       "      <td>8.0</td>\n",
       "      <td>9</td>\n",
       "      <td>50000</td>\n",
       "    </tr>\n",
       "    <tr>\n",
       "      <th>1</th>\n",
       "      <td>0</td>\n",
       "      <td>8.0</td>\n",
       "      <td>6</td>\n",
       "      <td>45000</td>\n",
       "    </tr>\n",
       "    <tr>\n",
       "      <th>2</th>\n",
       "      <td>5</td>\n",
       "      <td>6.0</td>\n",
       "      <td>7</td>\n",
       "      <td>60000</td>\n",
       "    </tr>\n",
       "    <tr>\n",
       "      <th>3</th>\n",
       "      <td>2</td>\n",
       "      <td>10.0</td>\n",
       "      <td>10</td>\n",
       "      <td>65000</td>\n",
       "    </tr>\n",
       "    <tr>\n",
       "      <th>4</th>\n",
       "      <td>7</td>\n",
       "      <td>9.0</td>\n",
       "      <td>6</td>\n",
       "      <td>70000</td>\n",
       "    </tr>\n",
       "    <tr>\n",
       "      <th>...</th>\n",
       "      <td>...</td>\n",
       "      <td>...</td>\n",
       "      <td>...</td>\n",
       "      <td>...</td>\n",
       "    </tr>\n",
       "    <tr>\n",
       "      <th>140</th>\n",
       "      <td>2</td>\n",
       "      <td>9.0</td>\n",
       "      <td>9</td>\n",
       "      <td>59000</td>\n",
       "    </tr>\n",
       "    <tr>\n",
       "      <th>141</th>\n",
       "      <td>5</td>\n",
       "      <td>8.0</td>\n",
       "      <td>8</td>\n",
       "      <td>56000</td>\n",
       "    </tr>\n",
       "    <tr>\n",
       "      <th>142</th>\n",
       "      <td>7</td>\n",
       "      <td>7.0</td>\n",
       "      <td>8</td>\n",
       "      <td>55000</td>\n",
       "    </tr>\n",
       "    <tr>\n",
       "      <th>143</th>\n",
       "      <td>4</td>\n",
       "      <td>6.0</td>\n",
       "      <td>7</td>\n",
       "      <td>52000</td>\n",
       "    </tr>\n",
       "    <tr>\n",
       "      <th>144</th>\n",
       "      <td>2</td>\n",
       "      <td>9.0</td>\n",
       "      <td>9</td>\n",
       "      <td>59000</td>\n",
       "    </tr>\n",
       "  </tbody>\n",
       "</table>\n",
       "<p>143 rows × 4 columns</p>\n",
       "</div>"
      ],
      "text/plain": [
       "     experience  test_score(out of 10)  interview_score(out of 10)  salary($)\n",
       "0             0                    8.0                           9      50000\n",
       "1             0                    8.0                           6      45000\n",
       "2             5                    6.0                           7      60000\n",
       "3             2                   10.0                          10      65000\n",
       "4             7                    9.0                           6      70000\n",
       "..          ...                    ...                         ...        ...\n",
       "140           2                    9.0                           9      59000\n",
       "141           5                    8.0                           8      56000\n",
       "142           7                    7.0                           8      55000\n",
       "143           4                    6.0                           7      52000\n",
       "144           2                    9.0                           9      59000\n",
       "\n",
       "[143 rows x 4 columns]"
      ]
     },
     "execution_count": 33,
     "metadata": {},
     "output_type": "execute_result"
    }
   ],
   "source": [
    "df"
   ]
  },
  {
   "cell_type": "code",
   "execution_count": 34,
   "id": "182a0049-aad6-4af4-a9c4-068a99cb1619",
   "metadata": {},
   "outputs": [
    {
     "data": {
      "text/plain": [
       "(143, 4)"
      ]
     },
     "execution_count": 34,
     "metadata": {},
     "output_type": "execute_result"
    }
   ],
   "source": [
    "df.shape"
   ]
  },
  {
   "cell_type": "code",
   "execution_count": 35,
   "id": "137215ef-8f02-432c-82a6-bafc1cd8bd84",
   "metadata": {},
   "outputs": [
    {
     "data": {
      "text/html": [
       "<div>\n",
       "<style scoped>\n",
       "    .dataframe tbody tr th:only-of-type {\n",
       "        vertical-align: middle;\n",
       "    }\n",
       "\n",
       "    .dataframe tbody tr th {\n",
       "        vertical-align: top;\n",
       "    }\n",
       "\n",
       "    .dataframe thead th {\n",
       "        text-align: right;\n",
       "    }\n",
       "</style>\n",
       "<table border=\"1\" class=\"dataframe\">\n",
       "  <thead>\n",
       "    <tr style=\"text-align: right;\">\n",
       "      <th></th>\n",
       "      <th>experience</th>\n",
       "      <th>test_score(out of 10)</th>\n",
       "      <th>interview_score(out of 10)</th>\n",
       "      <th>salary($)</th>\n",
       "    </tr>\n",
       "  </thead>\n",
       "  <tbody>\n",
       "    <tr>\n",
       "      <th>experience</th>\n",
       "      <td>1.000000</td>\n",
       "      <td>-0.444787</td>\n",
       "      <td>-0.450446</td>\n",
       "      <td>-0.137613</td>\n",
       "    </tr>\n",
       "    <tr>\n",
       "      <th>test_score(out of 10)</th>\n",
       "      <td>-0.444787</td>\n",
       "      <td>1.000000</td>\n",
       "      <td>0.831308</td>\n",
       "      <td>0.818151</td>\n",
       "    </tr>\n",
       "    <tr>\n",
       "      <th>interview_score(out of 10)</th>\n",
       "      <td>-0.450446</td>\n",
       "      <td>0.831308</td>\n",
       "      <td>1.000000</td>\n",
       "      <td>0.718352</td>\n",
       "    </tr>\n",
       "    <tr>\n",
       "      <th>salary($)</th>\n",
       "      <td>-0.137613</td>\n",
       "      <td>0.818151</td>\n",
       "      <td>0.718352</td>\n",
       "      <td>1.000000</td>\n",
       "    </tr>\n",
       "  </tbody>\n",
       "</table>\n",
       "</div>"
      ],
      "text/plain": [
       "                            experience  test_score(out of 10)  \\\n",
       "experience                    1.000000              -0.444787   \n",
       "test_score(out of 10)        -0.444787               1.000000   \n",
       "interview_score(out of 10)   -0.450446               0.831308   \n",
       "salary($)                    -0.137613               0.818151   \n",
       "\n",
       "                            interview_score(out of 10)  salary($)  \n",
       "experience                                   -0.450446  -0.137613  \n",
       "test_score(out of 10)                         0.831308   0.818151  \n",
       "interview_score(out of 10)                    1.000000   0.718352  \n",
       "salary($)                                     0.718352   1.000000  "
      ]
     },
     "execution_count": 35,
     "metadata": {},
     "output_type": "execute_result"
    }
   ],
   "source": [
    "df.corr()"
   ]
  },
  {
   "cell_type": "code",
   "execution_count": 36,
   "id": "938648dc-373f-4453-a3e5-5d5b80bf847e",
   "metadata": {},
   "outputs": [
    {
     "data": {
      "text/html": [
       "<div>\n",
       "<style scoped>\n",
       "    .dataframe tbody tr th:only-of-type {\n",
       "        vertical-align: middle;\n",
       "    }\n",
       "\n",
       "    .dataframe tbody tr th {\n",
       "        vertical-align: top;\n",
       "    }\n",
       "\n",
       "    .dataframe thead th {\n",
       "        text-align: right;\n",
       "    }\n",
       "</style>\n",
       "<table border=\"1\" class=\"dataframe\">\n",
       "  <thead>\n",
       "    <tr style=\"text-align: right;\">\n",
       "      <th></th>\n",
       "      <th>experience</th>\n",
       "      <th>test_score(out of 10)</th>\n",
       "      <th>interview_score(out of 10)</th>\n",
       "      <th>salary($)</th>\n",
       "    </tr>\n",
       "  </thead>\n",
       "  <tbody>\n",
       "    <tr>\n",
       "      <th>0</th>\n",
       "      <td>0</td>\n",
       "      <td>8.0</td>\n",
       "      <td>9</td>\n",
       "      <td>50000</td>\n",
       "    </tr>\n",
       "    <tr>\n",
       "      <th>1</th>\n",
       "      <td>0</td>\n",
       "      <td>8.0</td>\n",
       "      <td>6</td>\n",
       "      <td>45000</td>\n",
       "    </tr>\n",
       "    <tr>\n",
       "      <th>2</th>\n",
       "      <td>5</td>\n",
       "      <td>6.0</td>\n",
       "      <td>7</td>\n",
       "      <td>60000</td>\n",
       "    </tr>\n",
       "    <tr>\n",
       "      <th>3</th>\n",
       "      <td>2</td>\n",
       "      <td>10.0</td>\n",
       "      <td>10</td>\n",
       "      <td>65000</td>\n",
       "    </tr>\n",
       "    <tr>\n",
       "      <th>4</th>\n",
       "      <td>7</td>\n",
       "      <td>9.0</td>\n",
       "      <td>6</td>\n",
       "      <td>70000</td>\n",
       "    </tr>\n",
       "    <tr>\n",
       "      <th>...</th>\n",
       "      <td>...</td>\n",
       "      <td>...</td>\n",
       "      <td>...</td>\n",
       "      <td>...</td>\n",
       "    </tr>\n",
       "    <tr>\n",
       "      <th>140</th>\n",
       "      <td>2</td>\n",
       "      <td>9.0</td>\n",
       "      <td>9</td>\n",
       "      <td>59000</td>\n",
       "    </tr>\n",
       "    <tr>\n",
       "      <th>141</th>\n",
       "      <td>5</td>\n",
       "      <td>8.0</td>\n",
       "      <td>8</td>\n",
       "      <td>56000</td>\n",
       "    </tr>\n",
       "    <tr>\n",
       "      <th>142</th>\n",
       "      <td>7</td>\n",
       "      <td>7.0</td>\n",
       "      <td>8</td>\n",
       "      <td>55000</td>\n",
       "    </tr>\n",
       "    <tr>\n",
       "      <th>143</th>\n",
       "      <td>4</td>\n",
       "      <td>6.0</td>\n",
       "      <td>7</td>\n",
       "      <td>52000</td>\n",
       "    </tr>\n",
       "    <tr>\n",
       "      <th>144</th>\n",
       "      <td>2</td>\n",
       "      <td>9.0</td>\n",
       "      <td>9</td>\n",
       "      <td>59000</td>\n",
       "    </tr>\n",
       "  </tbody>\n",
       "</table>\n",
       "<p>143 rows × 4 columns</p>\n",
       "</div>"
      ],
      "text/plain": [
       "     experience  test_score(out of 10)  interview_score(out of 10)  salary($)\n",
       "0             0                    8.0                           9      50000\n",
       "1             0                    8.0                           6      45000\n",
       "2             5                    6.0                           7      60000\n",
       "3             2                   10.0                          10      65000\n",
       "4             7                    9.0                           6      70000\n",
       "..          ...                    ...                         ...        ...\n",
       "140           2                    9.0                           9      59000\n",
       "141           5                    8.0                           8      56000\n",
       "142           7                    7.0                           8      55000\n",
       "143           4                    6.0                           7      52000\n",
       "144           2                    9.0                           9      59000\n",
       "\n",
       "[143 rows x 4 columns]"
      ]
     },
     "execution_count": 36,
     "metadata": {},
     "output_type": "execute_result"
    }
   ],
   "source": [
    "df"
   ]
  },
  {
   "cell_type": "code",
   "execution_count": 37,
   "id": "07fdde94-ba01-4c8a-bc32-612c4372aa3e",
   "metadata": {},
   "outputs": [],
   "source": [
    "x = df.drop(\"salary($)\",axis=1)\n",
    "y = df[\"salary($)\"]"
   ]
  },
  {
   "cell_type": "code",
   "execution_count": 38,
   "id": "486c6b02-a40d-4cd9-85d4-c0e7d5336ba4",
   "metadata": {},
   "outputs": [
    {
     "data": {
      "text/plain": [
       "55"
      ]
     },
     "execution_count": 38,
     "metadata": {},
     "output_type": "execute_result"
    }
   ],
   "source": [
    "train_r2 = []\n",
    "cv = []\n",
    "test_r2 = []\n",
    "\n",
    "for i in range(0,100):\n",
    "    \n",
    "    from sklearn.model_selection import train_test_split\n",
    "    x_train,x_test,y_train,y_test = train_test_split(x,y,train_size=0.8,random_state=i)\n",
    "    \n",
    "    from sklearn.linear_model import LinearRegression\n",
    "    model=LinearRegression()\n",
    "    model.fit(x_train,y_train)\n",
    "\n",
    "    ypred_train = model.predict(x_train)\n",
    "    ypred_test = model.predict(x_test)\n",
    "    \n",
    "    from sklearn.model_selection import cross_val_score\n",
    "    cv.append(cross_val_score(model,x_train,y_train,cv=5).mean())\n",
    "    \n",
    "    from sklearn.metrics import r2_score\n",
    "    train_r2.append(r2_score(y_train,ypred_train))\n",
    "    test_r2.append(r2_score(y_test,ypred_test))\n",
    "    \n",
    "em =pd.DataFrame({\"train_r2\":train_r2,\"cv\":cv,\"test_r2\":test_r2})\n",
    "\n",
    "# for best random state number...just check train == cv or not\n",
    "\n",
    "gm = em[(abs(em[\"test_r2\"]-em[\"cv\"])<=0.05)]\n",
    "# it retains rows where the difference between training R-squared and CV R-squared is within 0.05.\n",
    "# Difference b/w train and cv must be less than 0.05 itself\n",
    "\n",
    "rs=gm[gm[\"test_r2\"]==gm[\"test_r2\"].max()].index.tolist()[0]\n",
    "\n",
    "pd.set_option(\"display.max_rows\",None)\n",
    "rs\n",
    "# best random state number is  [ rs = 77 ] will come or 54 as per our code"
   ]
  },
  {
   "cell_type": "code",
   "execution_count": 40,
   "id": "6f3f7ec1-b9f5-4cd2-90d3-f0f9b2f105ed",
   "metadata": {},
   "outputs": [
    {
     "name": "stdout",
     "output_type": "stream",
     "text": [
      "**************************************************\n",
      "REGRESSION MODELS\n",
      "**************************************************\n",
      "\n",
      "Model: Linear Regression\n",
      "Best Params: N/A\n",
      "Best Random State: 55 \n",
      "Without PCA:\n",
      "Train R2: 0.7189198557462941\n",
      "Test R2: 0.7403097764750132\n",
      "CV Score (Train): 0.7197277190067417\n",
      "Train RMSE: 1851.5808279649875\n",
      "Test RMSE: 2280.075671832541\n",
      "Train MAE: 1058.1041120210443\n",
      "Test MAE: 1220.799859584433\n",
      "Train MSE: 3428351.562487509\n",
      "Test MSE: 5198745.069282614\n",
      "-------------------------\n",
      "With PCA:\n",
      "Train R2: 0.7032010308499074\n",
      "Test R2: 0.8304984497408127\n",
      "CV Score (Train): 0.7055872340618455\n",
      "Train RMSE: 1902.6494745077496\n",
      "Test RMSE: 1842.079196760752\n",
      "Train MAE: 1092.1318083346368\n",
      "Test MAE: 1215.1412526607285\n",
      "Train MSE: 3620075.022844616\n",
      "Test MSE: 3393255.7671387373\n",
      "__________________________________________________\n",
      "Model: Ridge Regression\n",
      "Best Params: N/A\n",
      "Best Random State: 55 \n",
      "Without PCA:\n",
      "Train R2: 0.7030653153659261\n",
      "Test R2: 0.7512041703023149\n",
      "CV Score (Train): 0.7144436614295053\n",
      "Train RMSE: 1903.0844313460489\n",
      "Test RMSE: 2231.7369753664666\n",
      "Train MAE: 1052.1819499150563\n",
      "Test MAE: 1236.3972507894011\n",
      "Train MSE: 3621730.3528317143\n",
      "Test MSE: 4980649.927217865\n",
      "-------------------------\n",
      "With PCA:\n",
      "Train R2: 0.6918031320831419\n",
      "Test R2: 0.7987323723965339\n",
      "CV Score (Train): 0.7117807929993347\n",
      "Train RMSE: 1938.8387981478807\n",
      "Test RMSE: 2007.282158218294\n",
      "Train MAE: 1074.5666429810603\n",
      "Test MAE: 1233.751673090911\n",
      "Train MSE: 3759095.885203518\n",
      "Test MSE: 4029181.6627014917\n",
      "__________________________________________________\n",
      "Model: Lasso Regression\n",
      "Best Params: N/A\n",
      "Best Random State: 55 \n",
      "Without PCA:\n",
      "Train R2: 0.7189026365606017\n",
      "Test R2: 0.7429252955460104\n",
      "CV Score (Train): 0.7207794301703746\n",
      "Train RMSE: 1851.6375417287986\n",
      "Test RMSE: 2268.564508161515\n",
      "Train MAE: 1056.8263806863424\n",
      "Test MAE: 1218.628699168349\n",
      "Train MSE: 3428561.5859394684\n",
      "Test MSE: 5146384.927690095\n",
      "-------------------------\n",
      "With PCA:\n",
      "Train R2: 0.7031980980753095\n",
      "Test R2: 0.8302070748913246\n",
      "CV Score (Train): 0.7058794334914318\n",
      "Train RMSE: 1902.6588748575537\n",
      "Test RMSE: 1843.6617931514302\n",
      "Train MAE: 1092.0180648099529\n",
      "Test MAE: 1215.7028216508825\n",
      "Train MSE: 3620110.7940742117\n",
      "Test MSE: 3399088.8075263468\n",
      "__________________________________________________\n",
      "Model: SVR\n",
      "Best Params: {'kernel': 'poly', 'C': 1}\n",
      "Best Random State: 57 \n",
      "Without PCA:\n",
      "Train R2: 0.6920281955629952\n",
      "Test R2: 0.9595304369396784\n",
      "CV Score (Train): 0.6871659262567624\n",
      "Train RMSE: 2113.480478566784\n",
      "Test RMSE: 695.5617640926112\n",
      "Train MAE: 757.8598434706036\n",
      "Test MAE: 390.8149089066255\n",
      "Train MSE: 4466799.733282882\n",
      "Test MSE: 483806.16766762524\n",
      "-------------------------\n",
      "With PCA:\n",
      "Train R2: 0.028618921998859403\n",
      "Test R2: 0.07488986557609745\n",
      "CV Score (Train): -0.010968165186846601\n",
      "Train RMSE: 3753.510038167306\n",
      "Test RMSE: 3325.5858363858147\n",
      "Train MAE: 2860.274481328146\n",
      "Test MAE: 2840.718147179956\n",
      "Train MSE: 14088837.60662273\n",
      "Test MSE: 11059521.155169938\n",
      "__________________________________________________\n",
      "Model: Decision Tree\n",
      "Best Params: {'max_depth': 11, 'criterion': 'friedman_mse'}\n",
      "Best Random State: 28 \n",
      "Without PCA:\n",
      "Train R2: 0.9754806160382369\n",
      "Test R2: 0.8363563079403467\n",
      "CV Score (Train): 0.7514017397735033\n",
      "Train RMSE: 596.0395606792697\n",
      "Test RMSE: 1389.6166675593024\n",
      "Train MAE: 78.94736842105263\n",
      "Test MAE: 413.7931034482759\n",
      "Train MSE: 355263.15789473685\n",
      "Test MSE: 1931034.4827586208\n",
      "-------------------------\n",
      "With PCA:\n",
      "Train R2: 0.9754806160382369\n",
      "Test R2: -0.2711608222490929\n",
      "CV Score (Train): 0.7385637326061224\n",
      "Train RMSE: 596.0395606792697\n",
      "Test RMSE: 3872.983346207417\n",
      "Train MAE: 78.94736842105263\n",
      "Test MAE: 1275.8620689655172\n",
      "Train MSE: 355263.15789473685\n",
      "Test MSE: 15000000.0\n",
      "__________________________________________________\n",
      "Model: Random Forest\n",
      "Best Params: {'n_estimators': 5}\n",
      "Best Random State: 35 \n",
      "Without PCA:\n",
      "Train R2: 0.9093130693055755\n",
      "Test R2: 0.843218306412139\n",
      "CV Score (Train): 0.7297472637458579\n",
      "Train RMSE: 1165.9855990337087\n",
      "Test RMSE: 1234.280468881392\n",
      "Train MAE: 313.1578947368421\n",
      "Test MAE: 441.37931034482756\n",
      "Train MSE: 1359522.4171539966\n",
      "Test MSE: 1523448.2758620689\n",
      "-------------------------\n",
      "With PCA:\n",
      "Train R2: 0.868236837963058\n",
      "Test R2: 0.7893135095447871\n",
      "CV Score (Train): 0.4939503216028183\n",
      "Train RMSE: 1405.4578936553764\n",
      "Test RMSE: 1430.8184298891124\n",
      "Train MAE: 388.5964912280702\n",
      "Test MAE: 472.41379310344826\n",
      "Train MSE: 1975311.8908382072\n",
      "Test MSE: 2047241.3793103448\n",
      "__________________________________________________\n",
      "Model: K Neighbors\n",
      "Best Params: {'n_neighbors': 12}\n",
      "Best Random State: 80 \n",
      "Without PCA:\n",
      "Train R2: 0.6914108770436569\n",
      "Test R2: 0.7094302554027506\n",
      "CV Score (Train): 0.6546976075796332\n",
      "Train RMSE: 2112.7167639691643\n",
      "Test RMSE: 1875.4309849499512\n",
      "Train MAE: 735.3801169590644\n",
      "Test MAE: 729.8850574712641\n",
      "Train MSE: 4463572.124756337\n",
      "Test MSE: 3517241.379310344\n",
      "-------------------------\n",
      "With PCA:\n",
      "Train R2: 0.6762749583289002\n",
      "Test R2: 0.7036734610347087\n",
      "CV Score (Train): 0.6222212667300132\n",
      "Train RMSE: 2163.9096268777835\n",
      "Test RMSE: 1893.9179727106243\n",
      "Train MAE: 735.3801169590644\n",
      "Test MAE: 738.5057471264364\n",
      "Train MSE: 4682504.873294348\n",
      "Test MSE: 3586925.287356321\n",
      "__________________________________________________\n",
      "Model: XGBoost\n",
      "Best Params: N/A\n",
      "Best Random State: 28 \n",
      "Without PCA:\n",
      "Train R2: 0.9754806160355209\n",
      "Test R2: 0.810924649920856\n",
      "CV Score (Train): 0.7730161116970485\n",
      "Train RMSE: 596.0395607122806\n",
      "Test RMSE: 1493.6981272483852\n",
      "Train MAE: 78.95113760964912\n",
      "Test MAE: 449.43723060344826\n",
      "Train MSE: 355263.15793408843\n",
      "Test MSE: 2231134.0953453328\n",
      "-------------------------\n",
      "With PCA:\n",
      "Train R2: 0.9754806160362507\n",
      "Test R2: 0.495274956142012\n",
      "CV Score (Train): 0.7025834581716903\n",
      "Train RMSE: 596.0395607034103\n",
      "Test RMSE: 2440.4662561201712\n",
      "Train MAE: 78.9519257127193\n",
      "Test MAE: 862.4121767241379\n",
      "Train MSE: 355263.1579235144\n",
      "Test MSE: 5955875.5472612055\n",
      "__________________________________________________\n",
      "Model: AdaBoost\n",
      "Best Params: {'n_estimators': 1}\n",
      "Best Random State: 72 \n",
      "Without PCA:\n",
      "Train R2: 0.8422056084937766\n",
      "Test R2: 0.28785426710743245\n",
      "CV Score (Train): 0.6414598778798348\n",
      "Train RMSE: 1376.039291230634\n",
      "Test RMSE: 3845.328371247762\n",
      "Train MAE: 615.2378495257736\n",
      "Test MAE: 1624.9444605428366\n",
      "Train MSE: 1893484.1310105056\n",
      "Test MSE: 14786550.282722965\n",
      "-------------------------\n",
      "With PCA:\n",
      "Train R2: 0.8258312753394952\n",
      "Test R2: 0.35407233457251563\n",
      "CV Score (Train): 0.6384601808352525\n",
      "Train RMSE: 1445.673230386043\n",
      "Test RMSE: 3662.190545045688\n",
      "Train MAE: 592.9222566219473\n",
      "Test MAE: 1629.3103448275863\n",
      "Train MSE: 2089971.089054817\n",
      "Test MSE: 13411639.588222034\n",
      "__________________________________________________\n",
      "Model: Gradient Boosting\n",
      "Best Params: {'n_estimators': 150, 'learning_rate': 0.1}\n",
      "Best Random State: 36 \n",
      "Without PCA:\n",
      "Train R2: 0.9533714782172459\n",
      "Test R2: 0.8038623385198516\n",
      "CV Score (Train): 0.7566459310606096\n",
      "Train RMSE: 766.3071190678428\n",
      "Test RMSE: 1863.0012602722375\n",
      "Train MAE: 176.56165714670752\n",
      "Test MAE: 609.716639846811\n",
      "Train MSE: 587226.600734057\n",
      "Test MSE: 3470773.6957759447\n",
      "-------------------------\n",
      "With PCA:\n",
      "Train R2: 0.9547230171796828\n",
      "Test R2: 0.5290157826717874\n",
      "CV Score (Train): 0.6248075420916123\n",
      "Train RMSE: 755.1196566932739\n",
      "Test RMSE: 2886.9271795742675\n",
      "Train MAE: 142.10041219385286\n",
      "Test MAE: 923.1202509254779\n",
      "Train MSE: 570205.6959245678\n",
      "Test MSE: 8334348.5401646355\n",
      "__________________________________________________\n"
     ]
    }
   ],
   "source": [
    "import warnings\n",
    "warnings.simplefilter(\"ignore\")\n",
    "\n",
    "from sklearn.linear_model import LinearRegression, Ridge, Lasso\n",
    "from sklearn.svm import SVR\n",
    "from sklearn.tree import DecisionTreeRegressor\n",
    "from sklearn.ensemble import RandomForestRegressor, AdaBoostRegressor, GradientBoostingRegressor\n",
    "from sklearn.neighbors import KNeighborsRegressor\n",
    "from xgboost import XGBRegressor\n",
    "#from lightgbm import LGBMRegressor\n",
    "#from catboost import CatBoostRegressor\n",
    "from sklearn.model_selection import train_test_split, cross_val_score, RandomizedSearchCV\n",
    "from sklearn.metrics import r2_score, mean_squared_error, mean_absolute_error\n",
    "from sklearn.preprocessing import MinMaxScaler\n",
    "from sklearn.decomposition import PCA\n",
    "import pandas as pd\n",
    "import numpy as np\n",
    "\n",
    "# Initialize models with random_state if applicable\n",
    "models = {\n",
    "    \"Linear Regression\": LinearRegression(),\n",
    "    \"Ridge Regression\": Ridge(),\n",
    "    \"Lasso Regression\": Lasso(),\n",
    "    \"SVR\": SVR(),\n",
    "    \"Decision Tree\": DecisionTreeRegressor(),\n",
    "    \"Random Forest\": RandomForestRegressor(),\n",
    "    \"K Neighbors\": KNeighborsRegressor(),\n",
    "    \"XGBoost\": XGBRegressor(),\n",
    "    \"AdaBoost\": AdaBoostRegressor(),\n",
    "    \"Gradient Boosting\": GradientBoostingRegressor()\n",
    "    # Uncomment if using LGBMRegressor or CatBoostRegressor\n",
    "    # \"LightGBM\": LGBMRegressor(random_state=42),\n",
    "    # \"CatBoost\": CatBoostRegressor(random_state=42)\n",
    "}\n",
    "\n",
    "# Metrics dictionaries\n",
    "train_r2 = {}\n",
    "test_r2 = {}\n",
    "cv_score_train = {}\n",
    "train_rmse = {}\n",
    "test_rmse = {}\n",
    "train_mae = {}\n",
    "test_mae = {}\n",
    "train_mse = {}\n",
    "test_mse = {}\n",
    "train_r2_pca = {}\n",
    "test_r2_pca = {}\n",
    "cv_score_train_pca = {}\n",
    "train_rmse_pca = {}\n",
    "test_rmse_pca = {}\n",
    "train_mae_pca = {}\n",
    "test_mae_pca = {}\n",
    "train_mse_pca = {}\n",
    "test_mse_pca = {}\n",
    "best_params = {}\n",
    "best_random_state = {}\n",
    "\n",
    "# Iterate over each model\n",
    "for name, model in models.items():\n",
    "    train_r2_temp = []\n",
    "    test_r2_temp = []\n",
    "    cv_temp = []\n",
    "    train_r2_temp_pca = []\n",
    "    test_r2_temp_pca = []\n",
    "    cv_temp_pca = []\n",
    "\n",
    "    # For finding the best random state, it’s generally better to use scaled data.\n",
    "    for i in range(0, 100):\n",
    "        x_train, x_test, y_train, y_test = train_test_split(x, y, train_size=0.8, random_state=i)\n",
    "        scaler = MinMaxScaler()\n",
    "        x_train_scaled = scaler.fit_transform(x_train)\n",
    "        x_test_scaled = scaler.transform(x_test)\n",
    "\n",
    "        model.fit(x_train_scaled, y_train)\n",
    "        ypred_train = model.predict(x_train_scaled)\n",
    "        ypred_test = model.predict(x_test_scaled)\n",
    "\n",
    "        cv_temp.append(cross_val_score(model, x_train_scaled, y_train, cv=5, scoring='r2').mean())\n",
    "        train_r2_temp.append(r2_score(y_train, ypred_train))\n",
    "        test_r2_temp.append(r2_score(y_test, ypred_test))\n",
    "\n",
    "    em = pd.DataFrame({\"train_r2\": train_r2_temp, \"cv\": cv_temp, \"test_r2\": test_r2_temp})\n",
    "    gm = em[(abs(em[\"test_r2\"] - em[\"cv\"]) <= 0.05)]\n",
    "    rs = gm[gm[\"test_r2\"] == gm[\"test_r2\"].max()].index.tolist()[0]\n",
    "    best_random_state[name] = rs\n",
    "\n",
    "    x_train, x_test, y_train, y_test = train_test_split(x, y, train_size=0.8, random_state=rs)\n",
    "    x_train_scaled = scaler.fit_transform(x_train)\n",
    "    x_test_scaled = scaler.transform(x_test)\n",
    "\n",
    "    # Best params (for RandomizedSearchCV applied models)\n",
    "    if isinstance(model, (KNeighborsRegressor, SVR, DecisionTreeRegressor, RandomForestRegressor,\n",
    "                          GradientBoostingRegressor, AdaBoostRegressor)):\n",
    "        param_grid = {}\n",
    "        if isinstance(model, KNeighborsRegressor):\n",
    "            param_grid = {\"n_neighbors\": list(range(1, 50))}\n",
    "        elif isinstance(model, SVR):\n",
    "            param_grid = {\"C\": [0.1, 0.01, 1, 10, 100], \"kernel\": [\"linear\", \"rbf\", \"sigmoid\", \"poly\"]}\n",
    "        elif isinstance(model, DecisionTreeRegressor):\n",
    "            param_grid = {\"criterion\": [\"mse\", \"friedman_mse\"], \"max_depth\": list(range(1, 20))}\n",
    "        elif isinstance(model, RandomForestRegressor):\n",
    "            param_grid = {\"n_estimators\": list(range(1, 20))}\n",
    "        elif isinstance(model, GradientBoostingRegressor):\n",
    "            param_grid = {\"n_estimators\": list(range(50, 201, 50)), \"learning_rate\":[0.1,0.2,0.3,0.4,0.5,0.6,0.7,0.8,0.9,1]}\n",
    "        elif isinstance(model, AdaBoostRegressor):\n",
    "            param_grid = {\"n_estimators\": list(range(1, 21))}\n",
    "        # Uncomment if using LGBMRegressor or CatBoostRegressor\n",
    "        #elif isinstance(model, LGBMRegressor):\n",
    "        #    param_grid = {\"n_estimators\": list(range(50, 201, 50)), \"num_leaves\": list(range(20, 150, 30))}\n",
    "        #elif isinstance(model, CatBoostRegressor):\n",
    "        #    param_grid = {\"iterations\": [100, 200, 300], \"depth\": [4, 6, 10]}\n",
    "\n",
    "        random_search = RandomizedSearchCV(model, param_distributions=param_grid, scoring=\"r2\", cv=5, n_iter=10, random_state=rs)\n",
    "        random_search.fit(x_train_scaled, y_train)\n",
    "        best_params[name] = random_search.best_params_\n",
    "        model = random_search.best_estimator_\n",
    "\n",
    "    # Set random_state for models that require it\n",
    "    if hasattr(model, 'random_state'):\n",
    "        model.random_state = best_random_state[name]\n",
    "\n",
    "    model.fit(x_train_scaled, y_train)\n",
    "    ypred_train = model.predict(x_train_scaled)\n",
    "    ypred_test = model.predict(x_test_scaled)\n",
    "    train_r2[name] = r2_score(y_train, ypred_train)\n",
    "    test_r2[name] = r2_score(y_test, ypred_test)\n",
    "    cv_score_train[name] = cross_val_score(model, x_train_scaled, y_train, cv=5, scoring='r2').mean()\n",
    "    train_rmse[name] = np.sqrt(mean_squared_error(y_train, ypred_train))\n",
    "    test_rmse[name] = np.sqrt(mean_squared_error(y_test, ypred_test))\n",
    "    train_mae[name] = mean_absolute_error(y_train, ypred_train)\n",
    "    test_mae[name] = mean_absolute_error(y_test, ypred_test)\n",
    "    train_mse[name] = mean_squared_error(y_train, ypred_train)\n",
    "    test_mse[name] = mean_squared_error(y_test, ypred_test)\n",
    "\n",
    "    pca = PCA(n_components=0.95)\n",
    "    x_train_pca = pca.fit_transform(x_train_scaled)\n",
    "    x_test_pca = pca.transform(x_test_scaled)\n",
    "    model.fit(x_train_pca, y_train)\n",
    "    ypred_train_pca = model.predict(x_train_pca)\n",
    "    ypred_test_pca = model.predict(x_test_pca)\n",
    "    train_r2_pca[name] = r2_score(y_train, ypred_train_pca)\n",
    "    test_r2_pca[name] = r2_score(y_test, ypred_test_pca)\n",
    "    cv_score_train_pca[name] = cross_val_score(model, x_train_pca, y_train, cv=5, scoring='r2').mean()\n",
    "    train_rmse_pca[name] = np.sqrt(mean_squared_error(y_train, ypred_train_pca))\n",
    "    test_rmse_pca[name] = np.sqrt(mean_squared_error(y_test, ypred_test_pca))\n",
    "    train_mae_pca[name] = mean_absolute_error(y_train, ypred_train_pca)\n",
    "    test_mae_pca[name] = mean_absolute_error(y_test, ypred_test_pca)\n",
    "    train_mse_pca[name] = mean_squared_error(y_train, ypred_train_pca)\n",
    "    test_mse_pca[name] = mean_squared_error(y_test, ypred_test_pca)\n",
    "\n",
    "# Output results\n",
    "print(\"*\" * 50)\n",
    "print(\"REGRESSION MODELS\")\n",
    "print(\"*\" * 50)\n",
    "print(\"\")\n",
    "\n",
    "for name in models.keys():\n",
    "    print(f\"Model: {name}\")\n",
    "    print(f\"Best Params: {best_params.get(name, 'N/A')}\")\n",
    "    print(f\"Best Random State: {best_random_state[name]} \" )\n",
    "    print(f\"Without PCA:\")\n",
    "    print(f\"Train R2: {train_r2[name]}\")\n",
    "    print(f\"Test R2: {test_r2[name]}\")\n",
    "    print(f\"CV Score (Train): {cv_score_train[name]}\")\n",
    "    print(f\"Train RMSE: {train_rmse[name]}\")\n",
    "    print(f\"Test RMSE: {test_rmse[name]}\")\n",
    "    print(f\"Train MAE: {train_mae[name]}\")\n",
    "    print(f\"Test MAE: {test_mae[name]}\")\n",
    "    print(f\"Train MSE: {train_mse[name]}\")\n",
    "    print(f\"Test MSE: {test_mse[name]}\")\n",
    "    print(\"-\" * 25)\n",
    "    print(f\"With PCA:\")\n",
    "    print(f\"Train R2: {train_r2_pca[name]}\")\n",
    "    print(f\"Test R2: {test_r2_pca[name]}\")\n",
    "    print(f\"CV Score (Train): {cv_score_train_pca[name]}\")\n",
    "    print(f\"Train RMSE: {train_rmse_pca[name]}\")\n",
    "    print(f\"Test RMSE: {test_rmse_pca[name]}\")\n",
    "    print(f\"Train MAE: {train_mae_pca[name]}\")\n",
    "    print(f\"Test MAE: {test_mae_pca[name]}\")\n",
    "    print(f\"Train MSE: {train_mse_pca[name]}\")\n",
    "    print(f\"Test MSE: {test_mse_pca[name]}\")\n",
    "    print(\"_\" * 50)\n"
   ]
  },
  {
   "cell_type": "code",
   "execution_count": 41,
   "id": "11ada85d-135c-44ee-bfda-bd3d0b538648",
   "metadata": {},
   "outputs": [
    {
     "ename": "ValueError",
     "evalue": "Must have at least 1 validation dataset for early stopping.",
     "output_type": "error",
     "traceback": [
      "\u001b[1;31m---------------------------------------------------------------------------\u001b[0m",
      "\u001b[1;31mValueError\u001b[0m                                Traceback (most recent call last)",
      "Cell \u001b[1;32mIn[41], line 69\u001b[0m\n\u001b[0;32m     66\u001b[0m x_train_scaled \u001b[38;5;241m=\u001b[39m scaler\u001b[38;5;241m.\u001b[39mfit_transform(x_train)\n\u001b[0;32m     67\u001b[0m x_test_scaled \u001b[38;5;241m=\u001b[39m scaler\u001b[38;5;241m.\u001b[39mtransform(x_test)\n\u001b[1;32m---> 69\u001b[0m model\u001b[38;5;241m.\u001b[39mfit(x_train_scaled, y_train)\n\u001b[0;32m     70\u001b[0m ypred_train \u001b[38;5;241m=\u001b[39m model\u001b[38;5;241m.\u001b[39mpredict(x_train_scaled)\n\u001b[0;32m     71\u001b[0m ypred_test \u001b[38;5;241m=\u001b[39m model\u001b[38;5;241m.\u001b[39mpredict(x_test_scaled)\n",
      "File \u001b[1;32m~\\AppData\\Roaming\\Python\\Python311\\site-packages\\xgboost\\core.py:726\u001b[0m, in \u001b[0;36mrequire_keyword_args.<locals>.throw_if.<locals>.inner_f\u001b[1;34m(*args, **kwargs)\u001b[0m\n\u001b[0;32m    724\u001b[0m \u001b[38;5;28;01mfor\u001b[39;00m k, arg \u001b[38;5;129;01min\u001b[39;00m \u001b[38;5;28mzip\u001b[39m(sig\u001b[38;5;241m.\u001b[39mparameters, args):\n\u001b[0;32m    725\u001b[0m     kwargs[k] \u001b[38;5;241m=\u001b[39m arg\n\u001b[1;32m--> 726\u001b[0m \u001b[38;5;28;01mreturn\u001b[39;00m func(\u001b[38;5;241m*\u001b[39m\u001b[38;5;241m*\u001b[39mkwargs)\n",
      "File \u001b[1;32m~\\AppData\\Roaming\\Python\\Python311\\site-packages\\xgboost\\sklearn.py:1108\u001b[0m, in \u001b[0;36mXGBModel.fit\u001b[1;34m(self, X, y, sample_weight, base_margin, eval_set, verbose, xgb_model, sample_weight_eval_set, base_margin_eval_set, feature_weights)\u001b[0m\n\u001b[0;32m   1105\u001b[0m     obj \u001b[38;5;241m=\u001b[39m \u001b[38;5;28;01mNone\u001b[39;00m\n\u001b[0;32m   1107\u001b[0m model, metric, params \u001b[38;5;241m=\u001b[39m \u001b[38;5;28mself\u001b[39m\u001b[38;5;241m.\u001b[39m_configure_fit(xgb_model, params)\n\u001b[1;32m-> 1108\u001b[0m \u001b[38;5;28mself\u001b[39m\u001b[38;5;241m.\u001b[39m_Booster \u001b[38;5;241m=\u001b[39m train(\n\u001b[0;32m   1109\u001b[0m     params,\n\u001b[0;32m   1110\u001b[0m     train_dmatrix,\n\u001b[0;32m   1111\u001b[0m     \u001b[38;5;28mself\u001b[39m\u001b[38;5;241m.\u001b[39mget_num_boosting_rounds(),\n\u001b[0;32m   1112\u001b[0m     evals\u001b[38;5;241m=\u001b[39mevals,\n\u001b[0;32m   1113\u001b[0m     early_stopping_rounds\u001b[38;5;241m=\u001b[39m\u001b[38;5;28mself\u001b[39m\u001b[38;5;241m.\u001b[39mearly_stopping_rounds,\n\u001b[0;32m   1114\u001b[0m     evals_result\u001b[38;5;241m=\u001b[39mevals_result,\n\u001b[0;32m   1115\u001b[0m     obj\u001b[38;5;241m=\u001b[39mobj,\n\u001b[0;32m   1116\u001b[0m     custom_metric\u001b[38;5;241m=\u001b[39mmetric,\n\u001b[0;32m   1117\u001b[0m     verbose_eval\u001b[38;5;241m=\u001b[39mverbose,\n\u001b[0;32m   1118\u001b[0m     xgb_model\u001b[38;5;241m=\u001b[39mmodel,\n\u001b[0;32m   1119\u001b[0m     callbacks\u001b[38;5;241m=\u001b[39m\u001b[38;5;28mself\u001b[39m\u001b[38;5;241m.\u001b[39mcallbacks,\n\u001b[0;32m   1120\u001b[0m )\n\u001b[0;32m   1122\u001b[0m \u001b[38;5;28mself\u001b[39m\u001b[38;5;241m.\u001b[39m_set_evaluation_result(evals_result)\n\u001b[0;32m   1123\u001b[0m \u001b[38;5;28;01mreturn\u001b[39;00m \u001b[38;5;28mself\u001b[39m\n",
      "File \u001b[1;32m~\\AppData\\Roaming\\Python\\Python311\\site-packages\\xgboost\\core.py:726\u001b[0m, in \u001b[0;36mrequire_keyword_args.<locals>.throw_if.<locals>.inner_f\u001b[1;34m(*args, **kwargs)\u001b[0m\n\u001b[0;32m    724\u001b[0m \u001b[38;5;28;01mfor\u001b[39;00m k, arg \u001b[38;5;129;01min\u001b[39;00m \u001b[38;5;28mzip\u001b[39m(sig\u001b[38;5;241m.\u001b[39mparameters, args):\n\u001b[0;32m    725\u001b[0m     kwargs[k] \u001b[38;5;241m=\u001b[39m arg\n\u001b[1;32m--> 726\u001b[0m \u001b[38;5;28;01mreturn\u001b[39;00m func(\u001b[38;5;241m*\u001b[39m\u001b[38;5;241m*\u001b[39mkwargs)\n",
      "File \u001b[1;32m~\\AppData\\Roaming\\Python\\Python311\\site-packages\\xgboost\\training.py:182\u001b[0m, in \u001b[0;36mtrain\u001b[1;34m(params, dtrain, num_boost_round, evals, obj, feval, maximize, early_stopping_rounds, evals_result, verbose_eval, xgb_model, callbacks, custom_metric)\u001b[0m\n\u001b[0;32m    180\u001b[0m         \u001b[38;5;28;01mbreak\u001b[39;00m\n\u001b[0;32m    181\u001b[0m     bst\u001b[38;5;241m.\u001b[39mupdate(dtrain, iteration\u001b[38;5;241m=\u001b[39mi, fobj\u001b[38;5;241m=\u001b[39mobj)\n\u001b[1;32m--> 182\u001b[0m     \u001b[38;5;28;01mif\u001b[39;00m cb_container\u001b[38;5;241m.\u001b[39mafter_iteration(bst, i, dtrain, evals):\n\u001b[0;32m    183\u001b[0m         \u001b[38;5;28;01mbreak\u001b[39;00m\n\u001b[0;32m    185\u001b[0m bst \u001b[38;5;241m=\u001b[39m cb_container\u001b[38;5;241m.\u001b[39mafter_training(bst)\n",
      "File \u001b[1;32m~\\AppData\\Roaming\\Python\\Python311\\site-packages\\xgboost\\callback.py:261\u001b[0m, in \u001b[0;36mCallbackContainer.after_iteration\u001b[1;34m(self, model, epoch, dtrain, evals)\u001b[0m\n\u001b[0;32m    259\u001b[0m     metric_score \u001b[38;5;241m=\u001b[39m _parse_eval_str(score)\n\u001b[0;32m    260\u001b[0m     \u001b[38;5;28mself\u001b[39m\u001b[38;5;241m.\u001b[39m_update_history(metric_score, epoch)\n\u001b[1;32m--> 261\u001b[0m ret \u001b[38;5;241m=\u001b[39m \u001b[38;5;28many\u001b[39m(c\u001b[38;5;241m.\u001b[39mafter_iteration(model, epoch, \u001b[38;5;28mself\u001b[39m\u001b[38;5;241m.\u001b[39mhistory) \u001b[38;5;28;01mfor\u001b[39;00m c \u001b[38;5;129;01min\u001b[39;00m \u001b[38;5;28mself\u001b[39m\u001b[38;5;241m.\u001b[39mcallbacks)\n\u001b[0;32m    262\u001b[0m \u001b[38;5;28;01mreturn\u001b[39;00m ret\n",
      "File \u001b[1;32m~\\AppData\\Roaming\\Python\\Python311\\site-packages\\xgboost\\callback.py:261\u001b[0m, in \u001b[0;36m<genexpr>\u001b[1;34m(.0)\u001b[0m\n\u001b[0;32m    259\u001b[0m     metric_score \u001b[38;5;241m=\u001b[39m _parse_eval_str(score)\n\u001b[0;32m    260\u001b[0m     \u001b[38;5;28mself\u001b[39m\u001b[38;5;241m.\u001b[39m_update_history(metric_score, epoch)\n\u001b[1;32m--> 261\u001b[0m ret \u001b[38;5;241m=\u001b[39m \u001b[38;5;28many\u001b[39m(c\u001b[38;5;241m.\u001b[39mafter_iteration(model, epoch, \u001b[38;5;28mself\u001b[39m\u001b[38;5;241m.\u001b[39mhistory) \u001b[38;5;28;01mfor\u001b[39;00m c \u001b[38;5;129;01min\u001b[39;00m \u001b[38;5;28mself\u001b[39m\u001b[38;5;241m.\u001b[39mcallbacks)\n\u001b[0;32m    262\u001b[0m \u001b[38;5;28;01mreturn\u001b[39;00m ret\n",
      "File \u001b[1;32m~\\AppData\\Roaming\\Python\\Python311\\site-packages\\xgboost\\callback.py:446\u001b[0m, in \u001b[0;36mEarlyStopping.after_iteration\u001b[1;34m(self, model, epoch, evals_log)\u001b[0m\n\u001b[0;32m    444\u001b[0m msg \u001b[38;5;241m=\u001b[39m \u001b[38;5;124m\"\u001b[39m\u001b[38;5;124mMust have at least 1 validation dataset for early stopping.\u001b[39m\u001b[38;5;124m\"\u001b[39m\n\u001b[0;32m    445\u001b[0m \u001b[38;5;28;01mif\u001b[39;00m \u001b[38;5;28mlen\u001b[39m(evals_log\u001b[38;5;241m.\u001b[39mkeys()) \u001b[38;5;241m<\u001b[39m \u001b[38;5;241m1\u001b[39m:\n\u001b[1;32m--> 446\u001b[0m     \u001b[38;5;28;01mraise\u001b[39;00m \u001b[38;5;167;01mValueError\u001b[39;00m(msg)\n\u001b[0;32m    448\u001b[0m \u001b[38;5;66;03m# Get data name\u001b[39;00m\n\u001b[0;32m    449\u001b[0m \u001b[38;5;28;01mif\u001b[39;00m \u001b[38;5;28mself\u001b[39m\u001b[38;5;241m.\u001b[39mdata:\n",
      "\u001b[1;31mValueError\u001b[0m: Must have at least 1 validation dataset for early stopping."
     ]
    }
   ],
   "source": [
    "import warnings\n",
    "warnings.simplefilter(\"ignore\")\n",
    "\n",
    "from sklearn.linear_model import LinearRegression, Ridge, Lasso\n",
    "from sklearn.svm import SVR\n",
    "from sklearn.tree import DecisionTreeRegressor\n",
    "from sklearn.ensemble import RandomForestRegressor, AdaBoostRegressor, GradientBoostingRegressor\n",
    "from sklearn.neighbors import KNeighborsRegressor\n",
    "from xgboost import XGBRegressor\n",
    "from sklearn.model_selection import train_test_split, cross_val_score, RandomizedSearchCV\n",
    "from sklearn.metrics import r2_score, mean_squared_error, mean_absolute_error\n",
    "from sklearn.preprocessing import MinMaxScaler\n",
    "from sklearn.decomposition import PCA\n",
    "import pandas as pd\n",
    "import numpy as np\n",
    "\n",
    "# Initialize models with random_state and regularization if applicable\n",
    "models = {\n",
    "    \"Linear Regression\": LinearRegression(),\n",
    "    \"Ridge Regression\": Ridge(alpha=1.0),  # Added regularization with alpha\n",
    "    \"Lasso Regression\": Lasso(alpha=0.1),  # Lasso with regularization term\n",
    "    \"SVR\": SVR(C=1.0, kernel='rbf'),  # Support vector regression with regularization\n",
    "    \"Decision Tree\": DecisionTreeRegressor(max_depth=5),  # Limit tree depth\n",
    "    \"Random Forest\": RandomForestRegressor(max_depth=10, n_estimators=100),  # Limiting depth and trees\n",
    "    \"K Neighbors\": KNeighborsRegressor(),\n",
    "    \"XGBoost\": XGBRegressor(n_estimators=100, learning_rate=0.1, early_stopping_rounds=10),  # Early stopping for XGBoost\n",
    "    \"AdaBoost\": AdaBoostRegressor(n_estimators=50),  # Limited n_estimators to prevent overfitting\n",
    "    \"Gradient Boosting\": GradientBoostingRegressor(n_estimators=100, learning_rate=0.1, max_depth=5)  # Gradient boosting regularized\n",
    "}\n",
    "\n",
    "# Metrics dictionaries\n",
    "train_r2 = {}\n",
    "test_r2 = {}\n",
    "cv_score_train = {}\n",
    "train_rmse = {}\n",
    "test_rmse = {}\n",
    "train_mae = {}\n",
    "test_mae = {}\n",
    "train_mse = {}\n",
    "test_mse = {}\n",
    "train_r2_pca = {}\n",
    "test_r2_pca = {}\n",
    "cv_score_train_pca = {}\n",
    "train_rmse_pca = {}\n",
    "test_rmse_pca = {}\n",
    "train_mae_pca = {}\n",
    "test_mae_pca = {}\n",
    "train_mse_pca = {}\n",
    "test_mse_pca = {}\n",
    "best_params = {}\n",
    "best_random_state = {}\n",
    "\n",
    "# Iterate over each model\n",
    "for name, model in models.items():\n",
    "    train_r2_temp = []\n",
    "    test_r2_temp = []\n",
    "    cv_temp = []\n",
    "    train_r2_temp_pca = []\n",
    "    test_r2_temp_pca = []\n",
    "    cv_temp_pca = []\n",
    "\n",
    "    # Find the best random state by iterating over random states\n",
    "    for i in range(0, 100):\n",
    "        x_train, x_test, y_train, y_test = train_test_split(x, y, train_size=0.8, random_state=i)\n",
    "        scaler = MinMaxScaler()\n",
    "        x_train_scaled = scaler.fit_transform(x_train)\n",
    "        x_test_scaled = scaler.transform(x_test)\n",
    "\n",
    "        model.fit(x_train_scaled, y_train)\n",
    "        ypred_train = model.predict(x_train_scaled)\n",
    "        ypred_test = model.predict(x_test_scaled)\n",
    "\n",
    "        cv_temp.append(cross_val_score(model, x_train_scaled, y_train, cv=5, scoring='r2').mean())\n",
    "        train_r2_temp.append(r2_score(y_train, ypred_train))\n",
    "        test_r2_temp.append(r2_score(y_test, ypred_test))\n",
    "\n",
    "    em = pd.DataFrame({\"train_r2\": train_r2_temp, \"cv\": cv_temp, \"test_r2\": test_r2_temp})\n",
    "    gm = em[(abs(em[\"test_r2\"] - em[\"cv\"]) <= 0.05)]\n",
    "    rs = gm[gm[\"test_r2\"] == gm[\"test_r2\"].max()].index.tolist()[0]\n",
    "    best_random_state[name] = rs\n",
    "\n",
    "    x_train, x_test, y_train, y_test = train_test_split(x, y, train_size=0.8, random_state=rs)\n",
    "    x_train_scaled = scaler.fit_transform(x_train)\n",
    "    x_test_scaled = scaler.transform(x_test)\n",
    "\n",
    "    # Best params (for RandomizedSearchCV applied models)\n",
    "    if isinstance(model, (KNeighborsRegressor, SVR, DecisionTreeRegressor, RandomForestRegressor,\n",
    "                          GradientBoostingRegressor, AdaBoostRegressor)):\n",
    "        param_grid = {}\n",
    "        if isinstance(model, KNeighborsRegressor):\n",
    "            param_grid = {\"n_neighbors\": list(range(1, 50))}\n",
    "        elif isinstance(model, SVR):\n",
    "            param_grid = {\"C\": [0.1, 0.01, 1, 10, 100], \"kernel\": [\"linear\", \"rbf\", \"sigmoid\", \"poly\"]}\n",
    "        elif isinstance(model, DecisionTreeRegressor):\n",
    "            param_grid = {\"criterion\": [\"mse\", \"friedman_mse\"], \"max_depth\": list(range(1, 20))}\n",
    "        elif isinstance(model, RandomForestRegressor):\n",
    "            param_grid = {\"n_estimators\": list(range(1, 20)), \"max_depth\": list(range(1, 20))}\n",
    "        elif isinstance(model, GradientBoostingRegressor):\n",
    "            param_grid = {\"n_estimators\": list(range(50, 201, 50)), \"learning_rate\":[0.1,0.2,0.3,0.4,0.5]}\n",
    "        elif isinstance(model, AdaBoostRegressor):\n",
    "            param_grid = {\"n_estimators\": list(range(1, 21))}\n",
    "\n",
    "        random_search = RandomizedSearchCV(model, param_distributions=param_grid, scoring=\"r2\", cv=5, n_iter=10, random_state=rs)\n",
    "        random_search.fit(x_train_scaled, y_train)\n",
    "        best_params[name] = random_search.best_params_\n",
    "        model = random_search.best_estimator_\n",
    "\n",
    "    # Set random_state for models that require it\n",
    "    if hasattr(model, 'random_state'):\n",
    "        model.random_state = best_random_state[name]\n",
    "\n",
    "    model.fit(x_train_scaled, y_train)\n",
    "    ypred_train = model.predict(x_train_scaled)\n",
    "    ypred_test = model.predict(x_test_scaled)\n",
    "    train_r2[name] = r2_score(y_train, ypred_train)\n",
    "    test_r2[name] = r2_score(y_test, ypred_test)\n",
    "    cv_score_train[name] = cross_val_score(model, x_train_scaled, y_train, cv=5, scoring='r2').mean()\n",
    "    train_rmse[name] = np.sqrt(mean_squared_error(y_train, ypred_train))\n",
    "    test_rmse[name] = np.sqrt(mean_squared_error(y_test, ypred_test))\n",
    "    train_mae[name] = mean_absolute_error(y_train, ypred_train)\n",
    "    test_mae[name] = mean_absolute_error(y_test, ypred_test)\n",
    "    train_mse[name] = mean_squared_error(y_train, ypred_train)\n",
    "    test_mse[name] = mean_squared_error(y_test, ypred_test)\n",
    "\n",
    "    pca = PCA(n_components=0.95)\n",
    "    x_train_pca = pca.fit_transform(x_train_scaled)\n",
    "    x_test_pca = pca.transform(x_test_scaled)\n",
    "    model.fit(x_train_pca, y_train)\n",
    "    ypred_train_pca = model.predict(x_train_pca)\n",
    "    ypred_test_pca = model.predict(x_test_pca)\n",
    "    train_r2_pca[name] = r2_score(y_train, ypred_train_pca)\n",
    "    test_r2_pca[name] = r2_score(y_test, ypred_test_pca)\n",
    "    cv_score_train_pca[name] = cross_val_score(model, x_train_pca, y_train, cv=5, scoring='r2').mean()\n",
    "    train_rmse_pca[name] = np.sqrt(mean_squared_error(y_train, ypred_train_pca))\n",
    "    test_rmse_pca[name] = np.sqrt(mean_squared_error(y_test, ypred_test_pca))\n",
    "    train_mae_pca[name] = mean_absolute_error(y_train, ypred_train_pca)\n",
    "    test_mae_pca[name] = mean_absolute_error(y_test, ypred_test_pca)\n",
    "    train_mse_pca[name] = mean_squared_error(y_train, ypred_train_pca)\n",
    "    test_mse_pca[name] = mean_squared_error(y_test, ypred_test_pca)\n",
    "\n",
    "# Output results\n",
    "print(\"*\" * 50)\n",
    "print(\"REGRESSION MODELS\")\n",
    "print(\"*\" * 50)\n",
    "print(\"\")\n",
    "\n",
    "for name in models.keys():\n",
    "    print(f\"Model: {name}\")\n",
    "    print(f\"Best Params: {best_params.get(name, 'N/A')}\")\n",
    "    print(f\"Best Random State: {best_random_state[name]} \" )\n",
    "    print(f\"Without PCA:\")\n",
    "    print(f\"Train R2: {train_r2[name]}\")\n",
    "    print(f\"Test R2: {test_r2[name]}\")\n",
    "    print(f\"CV Score (Train): {cv_score_train[name]}\")\n",
    "    print(f\"Train RMSE: {train_rmse[name]}\")\n",
    "    print(f\"Test RMSE: {test_rmse[name]}\")\n",
    "    print(f\"Train MAE: {train_mae[name]}\")\n",
    "    print(f\"Test MAE: {test_mae[name]}\")\n",
    "    print(f\"Train MSE: {train_mse[name]}\")\n",
    "    print(f\"Test MSE: {test_mse[name]}\")\n",
    "    print(\"-\" * 25)\n",
    "    print(f\"With PCA:\")\n",
    "    print(f\"Train R2: {train_r2_pca[name]}\")\n",
    "    print(f\"Test R2: {test_r2_pca[name]}\")\n",
    "    print(f\"CV Score (Train): {cv_score_train_pca[name]}\")\n",
    "    print(f\"Train RMSE: {train_rmse_pca[name]}\")\n",
    "    print(f\"Test RMSE: {test_rmse_pca[name]}\")\n",
    "    print(f\"Train MAE: {train_mae_pca[name]}\")\n",
    "    print(f\"Test MAE: {test_mae_pca[name]}\")\n",
    "    print(f\"Train MSE: {train_mse_pca[name]}\")\n",
    "    print(f\"Test MSE: {test_mse_pca[name]}\")\n",
    "    print(\"_\" * 50)\n"
   ]
  },
  {
   "cell_type": "code",
   "execution_count": null,
   "id": "1cd89207-f17a-4c4f-8255-910c0ac47f7c",
   "metadata": {},
   "outputs": [],
   "source": []
  }
 ],
 "metadata": {
  "kernelspec": {
   "display_name": "Python 3 (ipykernel)",
   "language": "python",
   "name": "python3"
  },
  "language_info": {
   "codemirror_mode": {
    "name": "ipython",
    "version": 3
   },
   "file_extension": ".py",
   "mimetype": "text/x-python",
   "name": "python",
   "nbconvert_exporter": "python",
   "pygments_lexer": "ipython3",
   "version": "3.11.7"
  }
 },
 "nbformat": 4,
 "nbformat_minor": 5
}

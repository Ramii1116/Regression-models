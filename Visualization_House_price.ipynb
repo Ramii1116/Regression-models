{
 "cells": [
  {
   "cell_type": "markdown",
   "id": "2a025980-2fe7-4805-bfaf-c442b39db788",
   "metadata": {},
   "source": [
    "Pandas – To load the Dataframe\n",
    "\n",
    "Matplotlib – To visualize the data features i.e. barplot\n",
    "\n",
    "Seaborn – To see the correlation between features using heatmap"
   ]
  },
  {
   "cell_type": "code",
   "execution_count": 1,
   "id": "f0bf27e6-5534-4760-ad22-931bc3b2399e",
   "metadata": {},
   "outputs": [
    {
     "data": {
      "text/html": [
       "<div>\n",
       "<style scoped>\n",
       "    .dataframe tbody tr th:only-of-type {\n",
       "        vertical-align: middle;\n",
       "    }\n",
       "\n",
       "    .dataframe tbody tr th {\n",
       "        vertical-align: top;\n",
       "    }\n",
       "\n",
       "    .dataframe thead th {\n",
       "        text-align: right;\n",
       "    }\n",
       "</style>\n",
       "<table border=\"1\" class=\"dataframe\">\n",
       "  <thead>\n",
       "    <tr style=\"text-align: right;\">\n",
       "      <th></th>\n",
       "      <th>Id</th>\n",
       "      <th>MSSubClass</th>\n",
       "      <th>MSZoning</th>\n",
       "      <th>LotArea</th>\n",
       "      <th>LotConfig</th>\n",
       "      <th>BldgType</th>\n",
       "      <th>OverallCond</th>\n",
       "      <th>YearBuilt</th>\n",
       "      <th>YearRemodAdd</th>\n",
       "      <th>Exterior1st</th>\n",
       "      <th>BsmtFinSF2</th>\n",
       "      <th>TotalBsmtSF</th>\n",
       "      <th>SalePrice</th>\n",
       "    </tr>\n",
       "  </thead>\n",
       "  <tbody>\n",
       "    <tr>\n",
       "      <th>0</th>\n",
       "      <td>0</td>\n",
       "      <td>60</td>\n",
       "      <td>RL</td>\n",
       "      <td>8450</td>\n",
       "      <td>Inside</td>\n",
       "      <td>1Fam</td>\n",
       "      <td>5</td>\n",
       "      <td>2003</td>\n",
       "      <td>2003</td>\n",
       "      <td>VinylSd</td>\n",
       "      <td>0.0</td>\n",
       "      <td>856.0</td>\n",
       "      <td>208500.0</td>\n",
       "    </tr>\n",
       "    <tr>\n",
       "      <th>1</th>\n",
       "      <td>1</td>\n",
       "      <td>20</td>\n",
       "      <td>RL</td>\n",
       "      <td>9600</td>\n",
       "      <td>FR2</td>\n",
       "      <td>1Fam</td>\n",
       "      <td>8</td>\n",
       "      <td>1976</td>\n",
       "      <td>1976</td>\n",
       "      <td>MetalSd</td>\n",
       "      <td>0.0</td>\n",
       "      <td>1262.0</td>\n",
       "      <td>181500.0</td>\n",
       "    </tr>\n",
       "    <tr>\n",
       "      <th>2</th>\n",
       "      <td>2</td>\n",
       "      <td>60</td>\n",
       "      <td>RL</td>\n",
       "      <td>11250</td>\n",
       "      <td>Inside</td>\n",
       "      <td>1Fam</td>\n",
       "      <td>5</td>\n",
       "      <td>2001</td>\n",
       "      <td>2002</td>\n",
       "      <td>VinylSd</td>\n",
       "      <td>0.0</td>\n",
       "      <td>920.0</td>\n",
       "      <td>223500.0</td>\n",
       "    </tr>\n",
       "    <tr>\n",
       "      <th>3</th>\n",
       "      <td>3</td>\n",
       "      <td>70</td>\n",
       "      <td>RL</td>\n",
       "      <td>9550</td>\n",
       "      <td>Corner</td>\n",
       "      <td>1Fam</td>\n",
       "      <td>5</td>\n",
       "      <td>1915</td>\n",
       "      <td>1970</td>\n",
       "      <td>Wd Sdng</td>\n",
       "      <td>0.0</td>\n",
       "      <td>756.0</td>\n",
       "      <td>140000.0</td>\n",
       "    </tr>\n",
       "    <tr>\n",
       "      <th>4</th>\n",
       "      <td>4</td>\n",
       "      <td>60</td>\n",
       "      <td>RL</td>\n",
       "      <td>14260</td>\n",
       "      <td>FR2</td>\n",
       "      <td>1Fam</td>\n",
       "      <td>5</td>\n",
       "      <td>2000</td>\n",
       "      <td>2000</td>\n",
       "      <td>VinylSd</td>\n",
       "      <td>0.0</td>\n",
       "      <td>1145.0</td>\n",
       "      <td>250000.0</td>\n",
       "    </tr>\n",
       "  </tbody>\n",
       "</table>\n",
       "</div>"
      ],
      "text/plain": [
       "   Id  MSSubClass MSZoning  LotArea LotConfig BldgType  OverallCond  \\\n",
       "0   0          60       RL     8450    Inside     1Fam            5   \n",
       "1   1          20       RL     9600       FR2     1Fam            8   \n",
       "2   2          60       RL    11250    Inside     1Fam            5   \n",
       "3   3          70       RL     9550    Corner     1Fam            5   \n",
       "4   4          60       RL    14260       FR2     1Fam            5   \n",
       "\n",
       "   YearBuilt  YearRemodAdd Exterior1st  BsmtFinSF2  TotalBsmtSF  SalePrice  \n",
       "0       2003          2003     VinylSd         0.0        856.0   208500.0  \n",
       "1       1976          1976     MetalSd         0.0       1262.0   181500.0  \n",
       "2       2001          2002     VinylSd         0.0        920.0   223500.0  \n",
       "3       1915          1970     Wd Sdng         0.0        756.0   140000.0  \n",
       "4       2000          2000     VinylSd         0.0       1145.0   250000.0  "
      ]
     },
     "execution_count": 1,
     "metadata": {},
     "output_type": "execute_result"
    }
   ],
   "source": [
    "\n",
    "import pandas as pd\n",
    "import matplotlib.pyplot as plt\n",
    "import seaborn as sns\n",
    "\n",
    "dataset = pd.read_excel(\"HousePricePrediction.xlsx\")\n",
    "\n",
    "# Printing first 5 records of the dataset\n",
    "dataset.head()\n"
   ]
  },
  {
   "cell_type": "code",
   "execution_count": 2,
   "id": "508e2c8b-a6b3-41e4-bb5d-b0a547004703",
   "metadata": {},
   "outputs": [
    {
     "data": {
      "text/plain": [
       "(2919, 13)"
      ]
     },
     "execution_count": 2,
     "metadata": {},
     "output_type": "execute_result"
    }
   ],
   "source": [
    "dataset.shape"
   ]
  },
  {
   "cell_type": "code",
   "execution_count": 3,
   "id": "68301da1-abc8-494f-83b6-a5d3e66b355f",
   "metadata": {},
   "outputs": [
    {
     "name": "stdout",
     "output_type": "stream",
     "text": [
      "<class 'pandas.core.frame.DataFrame'>\n",
      "RangeIndex: 2919 entries, 0 to 2918\n",
      "Data columns (total 13 columns):\n",
      " #   Column        Non-Null Count  Dtype  \n",
      "---  ------        --------------  -----  \n",
      " 0   Id            2919 non-null   int64  \n",
      " 1   MSSubClass    2919 non-null   int64  \n",
      " 2   MSZoning      2915 non-null   object \n",
      " 3   LotArea       2919 non-null   int64  \n",
      " 4   LotConfig     2919 non-null   object \n",
      " 5   BldgType      2919 non-null   object \n",
      " 6   OverallCond   2919 non-null   int64  \n",
      " 7   YearBuilt     2919 non-null   int64  \n",
      " 8   YearRemodAdd  2919 non-null   int64  \n",
      " 9   Exterior1st   2918 non-null   object \n",
      " 10  BsmtFinSF2    2918 non-null   float64\n",
      " 11  TotalBsmtSF   2918 non-null   float64\n",
      " 12  SalePrice     1460 non-null   float64\n",
      "dtypes: float64(3), int64(6), object(4)\n",
      "memory usage: 296.6+ KB\n"
     ]
    }
   ],
   "source": [
    "dataset.info()"
   ]
  },
  {
   "cell_type": "code",
   "execution_count": 4,
   "id": "2c335147-b513-4630-99c1-88a69609770f",
   "metadata": {},
   "outputs": [
    {
     "data": {
      "text/plain": [
       "Id              False\n",
       "MSSubClass      False\n",
       "MSZoning         True\n",
       "LotArea         False\n",
       "LotConfig        True\n",
       "BldgType         True\n",
       "OverallCond     False\n",
       "YearBuilt       False\n",
       "YearRemodAdd    False\n",
       "Exterior1st      True\n",
       "BsmtFinSF2      False\n",
       "TotalBsmtSF     False\n",
       "SalePrice       False\n",
       "dtype: bool"
      ]
     },
     "execution_count": 4,
     "metadata": {},
     "output_type": "execute_result"
    }
   ],
   "source": [
    "obj = (dataset.dtypes == \"object\")\n",
    "obj"
   ]
  },
  {
   "cell_type": "code",
   "execution_count": 5,
   "id": "5263e27a-60ee-405f-8fe5-019da64766a6",
   "metadata": {},
   "outputs": [
    {
     "data": {
      "text/plain": [
       "['MSZoning', 'LotConfig', 'BldgType', 'Exterior1st']"
      ]
     },
     "execution_count": 5,
     "metadata": {},
     "output_type": "execute_result"
    }
   ],
   "source": [
    "object_cols = list(obj[obj].index)\n",
    "object_cols"
   ]
  },
  {
   "cell_type": "code",
   "execution_count": 6,
   "id": "95aab802-fc3c-4e63-b845-61e5908299cb",
   "metadata": {},
   "outputs": [
    {
     "data": {
      "text/plain": [
       "Id               True\n",
       "MSSubClass       True\n",
       "MSZoning        False\n",
       "LotArea          True\n",
       "LotConfig       False\n",
       "BldgType        False\n",
       "OverallCond      True\n",
       "YearBuilt        True\n",
       "YearRemodAdd     True\n",
       "Exterior1st     False\n",
       "BsmtFinSF2      False\n",
       "TotalBsmtSF     False\n",
       "SalePrice       False\n",
       "dtype: bool"
      ]
     },
     "execution_count": 6,
     "metadata": {},
     "output_type": "execute_result"
    }
   ],
   "source": [
    "int = (dataset.dtypes == \"int64\") # int ante rale ?\n",
    "int"
   ]
  },
  {
   "cell_type": "code",
   "execution_count": 7,
   "id": "5395bec6-fc87-4fa7-a1dc-ccb210e4f386",
   "metadata": {},
   "outputs": [
    {
     "data": {
      "text/plain": [
       "['Id', 'MSSubClass', 'LotArea', 'OverallCond', 'YearBuilt', 'YearRemodAdd']"
      ]
     },
     "execution_count": 7,
     "metadata": {},
     "output_type": "execute_result"
    }
   ],
   "source": [
    "integer_cols = list(int[int].index)\n",
    "integer_cols"
   ]
  },
  {
   "cell_type": "code",
   "execution_count": 8,
   "id": "84042c80-7c2a-41b4-aa87-b1311d49a616",
   "metadata": {},
   "outputs": [
    {
     "data": {
      "text/plain": [
       "Id              False\n",
       "MSSubClass      False\n",
       "MSZoning        False\n",
       "LotArea         False\n",
       "LotConfig       False\n",
       "BldgType        False\n",
       "OverallCond     False\n",
       "YearBuilt       False\n",
       "YearRemodAdd    False\n",
       "Exterior1st     False\n",
       "BsmtFinSF2       True\n",
       "TotalBsmtSF      True\n",
       "SalePrice        True\n",
       "dtype: bool"
      ]
     },
     "execution_count": 8,
     "metadata": {},
     "output_type": "execute_result"
    }
   ],
   "source": [
    "float = (dataset.dtypes == \"float\")\n",
    "float"
   ]
  },
  {
   "cell_type": "code",
   "execution_count": 9,
   "id": "04a58bf7-27ed-48e5-84e9-4177114eb1e4",
   "metadata": {},
   "outputs": [
    {
     "data": {
      "text/plain": [
       "['BsmtFinSF2', 'TotalBsmtSF', 'SalePrice']"
      ]
     },
     "execution_count": 9,
     "metadata": {},
     "output_type": "execute_result"
    }
   ],
   "source": [
    "float_cols = list(float[float].index)\n",
    "float_cols"
   ]
  },
  {
   "cell_type": "code",
   "execution_count": 10,
   "id": "24a08e1c-d1c7-4a01-987b-982f2fec0349",
   "metadata": {},
   "outputs": [
    {
     "name": "stdout",
     "output_type": "stream",
     "text": [
      "categorical variables: 4\n",
      "integer variables: 6\n",
      "float variables: 3\n"
     ]
    }
   ],
   "source": [
    "print(\"categorical variables:\", len(object_cols))\n",
    "print(\"integer variables:\", len(integer_cols))\n",
    "print(\"float variables:\", len(float_cols))\n"
   ]
  },
  {
   "cell_type": "code",
   "execution_count": 11,
   "id": "06ec9cd7-dcd1-4e83-8387-236cf341388a",
   "metadata": {},
   "outputs": [
    {
     "data": {
      "image/png": "[encoded data removed]",
      "text/plain": [
       "<Figure size 1200x600 with 2 Axes>"
      ]
     },
     "metadata": {},
     "output_type": "display_data"
    }
   ],
   "source": [
    "plt.figure(figsize=(12, 6))\n",
    "sns.heatmap(\n",
    "    dataset.select_dtypes(include=['float64', 'int64']).corr(),\n",
    "    annot=True,\n",
    "    fmt='.2f',\n",
    "    linewidths=2,\n",
    "    linecolor='green'\n",
    ")\n",
    "plt.show()\n"
   ]
  },
  {
   "cell_type": "markdown",
   "id": "76db4405-fcc9-425d-87ab-02c54f74eeba",
   "metadata": {},
   "source": [
    "# These are all object type or categorical 'MSZoning', 'LotConfig', 'BldgType', 'Exterior1st']"
   ]
  },
  {
   "cell_type": "code",
   "execution_count": 12,
   "id": "483b82aa-1cd7-4d6b-8a90-eef3faa17cc8",
   "metadata": {},
   "outputs": [
    {
     "name": "stderr",
     "output_type": "stream",
     "text": [
      "C:\\ProgramData\\anaconda3\\Lib\\site-packages\\seaborn\\_oldcore.py:1765: FutureWarning: unique with argument that is not not a Series, Index, ExtensionArray, or np.ndarray is deprecated and will raise in a future version.\n",
      "  order = pd.unique(vector)\n"
     ]
    },
    {
     "data": {
      "text/plain": [
       "[6, 5, 5, 16]"
      ]
     },
     "execution_count": 12,
     "metadata": {},
     "output_type": "execute_result"
    },
    {
     "data": {
      "image/png": "[encoded data removed]",
      "text/plain": [
       "<Figure size 1000x600 with 1 Axes>"
      ]
     },
     "metadata": {},
     "output_type": "display_data"
    }
   ],
   "source": [
    "unique_values = []\n",
    "for col in object_cols:\n",
    "    unique_values.append(dataset[col].unique().size)\n",
    "    #unique_values.append(dataset[col].nunique())\n",
    "plt.figure(figsize=(10,6))\n",
    "plt.title('No. Unique values of Categorical Features')\n",
    "plt.xticks()\n",
    "sns.barplot(x=object_cols,y=unique_values)\n",
    "unique_values"
   ]
  },
  {
   "cell_type": "code",
   "execution_count": 13,
   "id": "46e2eebd-e1eb-4cd1-9521-2c2116114caa",
   "metadata": {},
   "outputs": [
    {
     "data": {
      "text/plain": [
       "['MSZoning', 'LotConfig', 'BldgType', 'Exterior1st']"
      ]
     },
     "execution_count": 13,
     "metadata": {},
     "output_type": "execute_result"
    }
   ],
   "source": [
    "object_cols"
   ]
  },
  {
   "cell_type": "code",
   "execution_count": 14,
   "id": "68831394-7c27-42f7-a863-113a19d75479",
   "metadata": {},
   "outputs": [
    {
     "data": {
      "text/plain": [
       "array(['VinylSd', 'MetalSd', 'Wd Sdng', 'HdBoard', 'BrkFace', 'WdShing',\n",
       "       'CemntBd', 'Plywood', 'AsbShng', 'Stucco', 'BrkComm', 'AsphShn',\n",
       "       'Stone', 'ImStucc', 'CBlock', nan], dtype=object)"
      ]
     },
     "execution_count": 14,
     "metadata": {},
     "output_type": "execute_result"
    }
   ],
   "source": [
    "unique_values = dataset[col].unique()\n",
    "unique_values"
   ]
  },
  {
   "cell_type": "code",
   "execution_count": 15,
   "id": "7cef6805-6cf2-47f7-8427-38186d1cdf1d",
   "metadata": {},
   "outputs": [
    {
     "data": {
      "text/plain": [
       "16"
      ]
     },
     "execution_count": 15,
     "metadata": {},
     "output_type": "execute_result"
    }
   ],
   "source": [
    "unique_values = dataset[col].unique().size\n",
    "unique_values"
   ]
  },
  {
   "cell_type": "markdown",
   "id": "98616156-cfa1-424b-9924-3fc7bd3715d1",
   "metadata": {},
   "source": [
    "# instead of this, directly we can write as nunique() instruction,"
   ]
  },
  {
   "cell_type": "code",
   "execution_count": 16,
   "id": "5f759388-d0ba-4dda-876b-11f24964b0b1",
   "metadata": {},
   "outputs": [
    {
     "name": "stderr",
     "output_type": "stream",
     "text": [
      "C:\\ProgramData\\anaconda3\\Lib\\site-packages\\seaborn\\_oldcore.py:1765: FutureWarning: unique with argument that is not not a Series, Index, ExtensionArray, or np.ndarray is deprecated and will raise in a future version.\n",
      "  order = pd.unique(vector)\n",
      "C:\\ProgramData\\anaconda3\\Lib\\site-packages\\seaborn\\_oldcore.py:1765: FutureWarning: unique with argument that is not not a Series, Index, ExtensionArray, or np.ndarray is deprecated and will raise in a future version.\n",
      "  order = pd.unique(vector)\n",
      "C:\\ProgramData\\anaconda3\\Lib\\site-packages\\seaborn\\_oldcore.py:1765: FutureWarning: unique with argument that is not not a Series, Index, ExtensionArray, or np.ndarray is deprecated and will raise in a future version.\n",
      "  order = pd.unique(vector)\n",
      "C:\\ProgramData\\anaconda3\\Lib\\site-packages\\seaborn\\_oldcore.py:1765: FutureWarning: unique with argument that is not not a Series, Index, ExtensionArray, or np.ndarray is deprecated and will raise in a future version.\n",
      "  order = pd.unique(vector)\n"
     ]
    },
    {
     "data": {
      "image/png": "[encoded data removed]",
      "text/plain": [
       "<Figure size 1500x500 with 5 Axes>"
      ]
     },
     "metadata": {},
     "output_type": "display_data"
    }
   ],
   "source": [
    "plt.figure(figsize=(15,5))\n",
    "plt.title('Categorical Features: Distribution')\n",
    "plt.xticks(rotation=90)\n",
    "index = 1\n",
    " \n",
    "for col in object_cols:\n",
    "    y = dataset[col].value_counts()\n",
    "    plt.subplot(1, 4, index)\n",
    "    plt.xticks(rotation=90)\n",
    "    sns.barplot(x=list(y.index), y=y)\n",
    "    index += 1"
   ]
  },
  {
   "cell_type": "markdown",
   "id": "8fa4f935-1c59-41b0-b6ee-cc90811e477f",
   "metadata": {},
   "source": [
    "plt.subplot(11,4,5)\n",
    "The grid layout is defined by the first two arguments (11 and 4), meaning that your figure is divided into a grid of 11 rows and 4 columns, resulting in a total of \n",
    "11×4=44 subplots that can be created.\n",
    "Let's say you have a grid with 11 rows and 4 columns, and you're placing a subplot at index=5:\n",
    "The subplot would be placed in the 2nd row and 1st column (since the first row accommodates indices 1-4)."
   ]
  },
  {
   "cell_type": "code",
   "execution_count": 17,
   "id": "4db2b4c2-f383-4d8f-aa44-d040b69abad6",
   "metadata": {},
   "outputs": [
    {
     "data": {
      "text/plain": [
       "Exterior1st\n",
       "VinylSd    1025\n",
       "MetalSd     450\n",
       "HdBoard     442\n",
       "Wd Sdng     411\n",
       "Plywood     221\n",
       "CemntBd     126\n",
       "BrkFace      87\n",
       "WdShing      56\n",
       "AsbShng      44\n",
       "Stucco       43\n",
       "BrkComm       6\n",
       "AsphShn       2\n",
       "Stone         2\n",
       "CBlock        2\n",
       "ImStucc       1\n",
       "Name: count, dtype: int64"
      ]
     },
     "execution_count": 17,
     "metadata": {},
     "output_type": "execute_result"
    }
   ],
   "source": [
    "y"
   ]
  },
  {
   "cell_type": "code",
   "execution_count": 18,
   "id": "b002e03a-8328-4157-b41d-10196f006570",
   "metadata": {},
   "outputs": [],
   "source": [
    "dataset.drop(['Id'],\n",
    "\t\t\taxis=1,\n",
    "\t\t\tinplace=True)"
   ]
  },
  {
   "cell_type": "code",
   "execution_count": 19,
   "id": "69e54bfa-1384-4674-89cb-0964d523c3db",
   "metadata": {},
   "outputs": [],
   "source": [
    "dataset['SalePrice'] = dataset['SalePrice'].fillna(dataset['SalePrice'].mean())"
   ]
  },
  {
   "cell_type": "code",
   "execution_count": 20,
   "id": "f19acf5b-2784-460f-9cb2-a9f63719241f",
   "metadata": {},
   "outputs": [],
   "source": [
    "new_dataset = dataset.dropna()"
   ]
  },
  {
   "cell_type": "code",
   "execution_count": 21,
   "id": "98445d8f-5d5d-4388-8683-ed4b89e869cd",
   "metadata": {},
   "outputs": [
    {
     "data": {
      "text/plain": [
       "MSSubClass      0\n",
       "MSZoning        0\n",
       "LotArea         0\n",
       "LotConfig       0\n",
       "BldgType        0\n",
       "OverallCond     0\n",
       "YearBuilt       0\n",
       "YearRemodAdd    0\n",
       "Exterior1st     0\n",
       "BsmtFinSF2      0\n",
       "TotalBsmtSF     0\n",
       "SalePrice       0\n",
       "dtype: int64"
      ]
     },
     "execution_count": 21,
     "metadata": {},
     "output_type": "execute_result"
    }
   ],
   "source": [
    "new_dataset.isnull().sum()"
   ]
  },
  {
   "cell_type": "code",
   "execution_count": 22,
   "id": "f2b91879-29d1-4b77-ab0d-90a606a93bf0",
   "metadata": {},
   "outputs": [
    {
     "name": "stdout",
     "output_type": "stream",
     "text": [
      "Categorical variables:\n",
      "['MSZoning', 'LotConfig', 'BldgType', 'Exterior1st']\n",
      "No. of. categorical features:  4\n"
     ]
    }
   ],
   "source": [
    "from sklearn.preprocessing import OneHotEncoder\n",
    "\n",
    "s = (new_dataset.dtypes == 'object')\n",
    "object_cols = list(s[s].index)\n",
    "print(\"Categorical variables:\")\n",
    "print(object_cols)\n",
    "print('No. of. categorical features: ', \n",
    "\tlen(object_cols))\n"
   ]
  },
  {
   "cell_type": "markdown",
   "id": "aee2446c-0a04-49e5-8e2e-b0ef545ec047",
   "metadata": {},
   "source": [
    "# You can absolutely encode the categorical data and pass it into LightGBM, XGBoost, and SVR.\n",
    "# Encoding makes sure all the algorithms can work with the data, especially for models like XGBoost and SVR that require numerical inputs.\n",
    "# For LightGBM, encoding is optional, but it will still work correctly if you choose to encode the categorical features."
   ]
  },
  {
   "cell_type": "code",
   "execution_count": 23,
   "id": "c3db912f-45df-4bad-99b4-658314054f7e",
   "metadata": {},
   "outputs": [],
   "source": [
    "OH_encoder = OneHotEncoder(sparse_output=False)\n",
    "OH_cols = pd.DataFrame(OH_encoder.fit_transform(new_dataset[object_cols]))\n",
    "OH_cols.index = new_dataset.index\n",
    "OH_cols.columns = OH_encoder.get_feature_names_out()\n",
    "df_final = new_dataset.drop(object_cols, axis=1)\n",
    "df_final = pd.concat([df_final, OH_cols], axis=1)\n"
   ]
  },
  {
   "cell_type": "code",
   "execution_count": 24,
   "id": "b7d8c0a3-9aaa-492b-a6b6-8ec037bf3c00",
   "metadata": {},
   "outputs": [
    {
     "data": {
      "text/plain": [
       "Index(['MSZoning_C (all)', 'MSZoning_FV', 'MSZoning_RH', 'MSZoning_RL',\n",
       "       'MSZoning_RM', 'LotConfig_Corner', 'LotConfig_CulDSac', 'LotConfig_FR2',\n",
       "       'LotConfig_FR3', 'LotConfig_Inside', 'BldgType_1Fam', 'BldgType_2fmCon',\n",
       "       'BldgType_Duplex', 'BldgType_Twnhs', 'BldgType_TwnhsE',\n",
       "       'Exterior1st_AsbShng', 'Exterior1st_AsphShn', 'Exterior1st_BrkComm',\n",
       "       'Exterior1st_BrkFace', 'Exterior1st_CBlock', 'Exterior1st_CemntBd',\n",
       "       'Exterior1st_HdBoard', 'Exterior1st_ImStucc', 'Exterior1st_MetalSd',\n",
       "       'Exterior1st_Plywood', 'Exterior1st_Stone', 'Exterior1st_Stucco',\n",
       "       'Exterior1st_VinylSd', 'Exterior1st_Wd Sdng', 'Exterior1st_WdShing'],\n",
       "      dtype='object')"
      ]
     },
     "execution_count": 24,
     "metadata": {},
     "output_type": "execute_result"
    }
   ],
   "source": [
    "OH_cols.columns = OH_encoder.get_feature_names_out()\n",
    "OH_cols.columns "
   ]
  },
  {
   "cell_type": "code",
   "execution_count": 25,
   "id": "f69aa434-b874-452a-a4be-cde02bae954d",
   "metadata": {},
   "outputs": [],
   "source": [
    "from sklearn.metrics import mean_absolute_error\n",
    "from sklearn.model_selection import train_test_split\n",
    "\n",
    "X = df_final.drop(['SalePrice'], axis=1)\n",
    "Y = df_final['SalePrice']\n",
    "\n",
    "# Split the training set into \n",
    "# training and validation set\n",
    "X_train, X_valid, Y_train, Y_valid = train_test_split(\n",
    "\tX, Y, train_size=0.8, test_size=0.2, random_state=0)\n"
   ]
  },
  {
   "cell_type": "code",
   "execution_count": 26,
   "id": "37edd141-34df-443d-8132-290aa2d72745",
   "metadata": {},
   "outputs": [
    {
     "name": "stdout",
     "output_type": "stream",
     "text": [
      "0.1870512931870423\n"
     ]
    }
   ],
   "source": [
    "from sklearn import svm\n",
    "from sklearn.svm import SVC\n",
    "from sklearn.metrics import mean_absolute_percentage_error\n",
    "\n",
    "model_SVR = svm.SVR()\n",
    "model_SVR.fit(X_train,Y_train)\n",
    "Y_pred = model_SVR.predict(X_valid)\n",
    "\n",
    "print(mean_absolute_percentage_error(Y_valid, Y_pred))\n"
   ]
  },
  {
   "cell_type": "code",
   "execution_count": 27,
   "id": "0865b7e1-c1ef-4eeb-940b-82d585a3d183",
   "metadata": {},
   "outputs": [
    {
     "data": {
      "text/plain": [
       "0.19046411585772263"
      ]
     },
     "execution_count": 27,
     "metadata": {},
     "output_type": "execute_result"
    }
   ],
   "source": [
    "from sklearn.ensemble import RandomForestRegressor\n",
    "\n",
    "model_RFR = RandomForestRegressor(n_estimators=10)\n",
    "model_RFR.fit(X_train, Y_train)\n",
    "Y_pred = model_RFR.predict(X_valid)\n",
    "\n",
    "mean_absolute_percentage_error(Y_valid, Y_pred)\n"
   ]
  },
  {
   "cell_type": "code",
   "execution_count": 28,
   "id": "268a65c0-7ee5-48c7-9c6a-738f19f18ba3",
   "metadata": {},
   "outputs": [
    {
     "name": "stdout",
     "output_type": "stream",
     "text": [
      "0.18741683841599993\n"
     ]
    }
   ],
   "source": [
    "from sklearn.linear_model import LinearRegression\n",
    "\n",
    "model_LR = LinearRegression()\n",
    "model_LR.fit(X_train, Y_train)\n",
    "Y_pred = model_LR.predict(X_valid)\n",
    "\n",
    "print(mean_absolute_percentage_error(Y_valid, Y_pred))\n"
   ]
  },
  {
   "cell_type": "markdown",
   "id": "06a4564b-0c9d-42b5-af27-de4f5a68b7c7",
   "metadata": {},
   "source": [
    "# In simpler terms, when the model predicts house prices, it's typically 18.7% higher or lower than the real prices."
   ]
  },
  {
   "cell_type": "code",
   "execution_count": null,
   "id": "a523ce75-2bb8-44f8-8b33-187203454f05",
   "metadata": {},
   "outputs": [],
   "source": [
    "import warnings\n",
    "warnings.simplefilter(\"ignore\")\n",
    "\n",
    "from sklearn.linear_model import LinearRegression, Ridge, Lasso\n",
    "from sklearn.svm import SVR\n",
    "from sklearn.tree import DecisionTreeRegressor\n",
    "from sklearn.ensemble import RandomForestRegressor, AdaBoostRegressor, GradientBoostingRegressor\n",
    "from sklearn.neighbors import KNeighborsRegressor\n",
    "from xgboost import XGBRegressor\n",
    "from sklearn.model_selection import train_test_split, cross_val_score, RandomizedSearchCV\n",
    "from sklearn.metrics import r2_score, mean_squared_error, mean_absolute_error\n",
    "from sklearn.preprocessing import MinMaxScaler\n",
    "from sklearn.decomposition import PCA\n",
    "import pandas as pd\n",
    "import numpy as np\n",
    "\n",
    "# Assuming x and y are defined (features and target)\n",
    "x= df_final.drop(['SalePrice'], axis=1)\n",
    "y= df_final['SalePrice']\n",
    "\n",
    "models = {\n",
    "    \"Linear Regression\": LinearRegression(),\n",
    "    \"Ridge Regression\": Ridge(),\n",
    "    \"Lasso Regression\": Lasso(),\n",
    "    \"SVR\": SVR(),\n",
    "    \"Decision Tree\": DecisionTreeRegressor(),\n",
    "    \"Random Forest\": RandomForestRegressor(),\n",
    "    \"K Neighbors\": KNeighborsRegressor(),\n",
    "    \"XGBoost\": XGBRegressor(),\n",
    "    \"AdaBoost\": AdaBoostRegressor(),\n",
    "    \"Gradient Boosting\": GradientBoostingRegressor()\n",
    "}\n",
    "\n",
    "# Metrics dictionaries\n",
    "train_r2, test_r2, cv_score_train, train_rmse, test_rmse, train_mae, test_mae, train_mse, test_mse = {}, {}, {}, {}, {}, {}, {}, {}, {}\n",
    "train_r2_pca, test_r2_pca, cv_score_train_pca, train_rmse_pca, test_rmse_pca, train_mae_pca, test_mae_pca, train_mse_pca, test_mse_pca = {}, {}, {}, {}, {}, {}, {}, {}, {}\n",
    "best_params, best_random_state = {}, {}\n",
    "\n",
    "for name, model in models.items():\n",
    "    train_r2_temp, test_r2_temp, cv_temp = [], [], []\n",
    "    \n",
    "    for i in range(0, 100):\n",
    "        x_train, x_test, y_train, y_test = train_test_split(x, y, train_size=0.8, random_state=i)\n",
    "        scaler = MinMaxScaler()\n",
    "        x_train_scaled, x_test_scaled = scaler.fit_transform(x_train), scaler.transform(x_test)\n",
    "\n",
    "        model.fit(x_train_scaled, y_train)\n",
    "        ypred_train, ypred_test = model.predict(x_train_scaled), model.predict(x_test_scaled)\n",
    "\n",
    "        cv_temp.append(cross_val_score(model, x_train_scaled, y_train, cv=5, scoring='r2').mean())\n",
    "        train_r2_temp.append(r2_score(y_train, ypred_train))\n",
    "        test_r2_temp.append(r2_score(y_test, ypred_test))\n",
    "\n",
    "    em = pd.DataFrame({\"train_r2\": train_r2_temp, \"cv\": cv_temp, \"test_r2\": test_r2_temp})\n",
    "    gm = em[(abs(em[\"test_r2\"] - em[\"cv\"]) <= 0.05)]\n",
    "    rs = gm[gm[\"test_r2\"] == gm[\"test_r2\"].max()].index.tolist()[0]\n",
    "    best_random_state[name] = rs\n",
    "\n",
    "    x_train, x_test, y_train, y_test = train_test_split(x, y, train_size=0.8, random_state=rs)\n",
    "    x_train_scaled, x_test_scaled = scaler.fit_transform(x_train), scaler.transform(x_test)\n",
    "\n",
    "    if isinstance(model, (KNeighborsRegressor, SVR, DecisionTreeRegressor, RandomForestRegressor,\n",
    "                          GradientBoostingRegressor, AdaBoostRegressor, XGBRegressor)):\n",
    "        param_grid = {}\n",
    "        if isinstance(model, KNeighborsRegressor):\n",
    "            param_grid = {\"n_neighbors\": list(range(1, 50))}\n",
    "        elif isinstance(model, SVR):\n",
    "            param_grid = {\"C\": [0.1, 0.01, 1, 10, 100], \"kernel\": [\"linear\", \"rbf\", \"sigmoid\", \"poly\"]}\n",
    "        elif isinstance(model, DecisionTreeRegressor):\n",
    "            param_grid = {\"criterion\": [\"squared_error\", \"friedman_mse\"], \"max_depth\": list(range(1, 20))}\n",
    "        elif isinstance(model, RandomForestRegressor):\n",
    "            param_grid = {\"n_estimators\": list(range(1, 20))}\n",
    "        elif isinstance(model, GradientBoostingRegressor):\n",
    "            param_grid = {\"n_estimators\": list(range(50, 201, 50)), \"learning_rate\": np.arange(0.1, 1.1, 0.1)}\n",
    "        elif isinstance(model, AdaBoostRegressor):\n",
    "            param_grid = {\"n_estimators\": list(range(1, 21))}\n",
    "        elif isinstance(model, XGBRegressor):\n",
    "            param_grid = {\"n_estimators\": list(range(50, 201, 50)), \"learning_rate\": np.arange(0.1, 1.1, 0.1)}\n",
    "\n",
    "        random_search = RandomizedSearchCV(model, param_distributions=param_grid, scoring=\"r2\", cv=5, n_iter=10, random_state=rs)\n",
    "        random_search.fit(x_train_scaled, y_train)\n",
    "        best_params[name] = random_search.best_params_\n",
    "        model = random_search.best_estimator_\n",
    "\n",
    "    model.fit(x_train_scaled, y_train)\n",
    "    ypred_train, ypred_test = model.predict(x_train_scaled), model.predict(x_test_scaled)\n",
    "    train_r2[name], test_r2[name] = r2_score(y_train, ypred_train), r2_score(y_test, ypred_test)\n",
    "    cv_score_train[name] = cross_val_score(model, x_train_scaled, y_train, cv=5, scoring='r2').mean()\n",
    "    train_rmse[name], test_rmse[name] = np.sqrt(mean_squared_error(y_train, ypred_train)), np.sqrt(mean_squared_error(y_test, ypred_test))\n",
    "    train_mae[name], test_mae[name] = mean_absolute_error(y_train, ypred_train), mean_absolute_error(y_test, ypred_test)\n",
    "    train_mse[name], test_mse[name] = mean_squared_error(y_train, ypred_train), mean_squared_error(y_test, ypred_test)\n",
    "\n",
    "    pca = PCA(n_components=0.95)\n",
    "    x_train_pca, x_test_pca = pca.fit_transform(x_train_scaled), pca.transform(x_test_scaled)\n",
    "    model.fit(x_train_pca, y_train)\n",
    "    ypred_train_pca, ypred_test_pca = model.predict(x_train_pca), model.predict(x_test_pca)\n",
    "    train_r2_pca[name], test_r2_pca[name] = r2_score(y_train, ypred_train_pca), r2_score(y_test, ypred_test_pca)\n",
    "    cv_score_train_pca[name] = cross_val_score(model, x_train_pca, y_train, cv=5, scoring='r2').mean()\n",
    "    train_rmse_pca[name], test_rmse_pca[name] = np.sqrt(mean_squared_error(y_train, ypred_train_pca)), np.sqrt(mean_squared_error(y_test, ypred_test_pca))\n",
    "    train_mae_pca[name], test_mae_pca[name] = mean_absolute_error(y_train, ypred_train_pca), mean_absolute_error(y_test, ypred_test_pca)\n",
    "    train_mse_pca[name], test_mse_pca[name] = mean_squared_error(y_train, ypred_train_pca), mean_squared_error(y_test, ypred_test_pca)\n",
    "\n",
    "# Output\n",
    "print(\"*\" * 50 + \"\\nREGRESSION MODELS\\n\" + \"*\" * 50 + \"\\n\")\n",
    "for name in models.keys():\n",
    "    print(f\"Model: {name}\")\n",
    "    print(f\"Best Params: {best_params.get(name, 'N/A')}\")\n",
    "    print(f\"Best Random State: {best_random_state[name]}\")\n",
    "    print(f\"Without PCA:\\nTrain R2: {train_r2[name]}, Test R2: {test_r2[name]}\")\n",
    "    print(f\"Train RMSE: {train_rmse[name]}, Test RMSE: {test_rmse[name]}\")\n",
    "    print(f\"Train MAE: {train_mae[name]}, Test MAE: {test_mae[name]}\")\n",
    "    print(f\"With PCA:\\nTrain R2: {train_r2_pca[name]}, Test R2: {test_r2_pca[name]}\")\n",
    "    print(f\"Train RMSE: {train_rmse_pca[name]}, Test RMSE: {test_rmse_pca[name]}\")\n",
    "    print(\"_\" * 50)\n"
   ]
  },
  {
   "cell_type": "code",
   "execution_count": null,
   "id": "c6a99b30-7fd9-4476-bb9c-a8414701c7a3",
   "metadata": {},
   "outputs": [],
   "source": []
  }
 ],
 "metadata": {
  "kernelspec": {
   "display_name": "Python 3 (ipykernel)",
   "language": "python",
   "name": "python3"
  },
  "language_info": {
   "codemirror_mode": {
    "name": "ipython",
    "version": 3
   },
   "file_extension": ".py",
   "mimetype": "text/x-python",
   "name": "python",
   "nbconvert_exporter": "python",
   "pygments_lexer": "ipython3",
   "version": "3.11.7"
  },
  "widgets": {
   "application/vnd.jupyter.widget-state+json": {
    "state": {},
    "version_major": 2,
    "version_minor": 0
   }
  }
 },
 "nbformat": 4,
 "nbformat_minor": 5
}
